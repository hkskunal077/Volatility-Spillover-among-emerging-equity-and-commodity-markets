{
  "cells": [
    {
      "cell_type": "markdown",
      "metadata": {
        "id": "view-in-github",
        "colab_type": "text"
      },
      "source": [
        "<a href=\"https://colab.research.google.com/github/kunal077/Volatility-Spillover-among-emerging-equity-and-commodity-markets/blob/main/101.ipynb\" target=\"_parent\"><img src=\"https://colab.research.google.com/assets/colab-badge.svg\" alt=\"Open In Colab\"/></a>"
      ]
    },
    {
      "cell_type": "code",
      "execution_count": 1,
      "metadata": {
        "id": "fFCA11IcqTTO"
      },
      "outputs": [],
      "source": [
        "import io\n",
        "import pandas as pd"
      ]
    },
    {
      "cell_type": "code",
      "execution_count": 2,
      "metadata": {
        "id": "WcLK1skjwm-D"
      },
      "outputs": [],
      "source": [
        "import numpy as np"
      ]
    },
    {
      "cell_type": "code",
      "execution_count": 3,
      "metadata": {
        "colab": {
          "base_uri": "https://localhost:8080/",
          "height": 73,
          "resources": {
            "http://localhost:8080/nbextensions/google.colab/files.js": {
              "data": "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",
              "headers": [
                [
                  "content-type",
                  "application/javascript"
                ]
              ],
              "ok": true,
              "status": 200,
              "status_text": ""
            }
          }
        },
        "id": "aM3G5977qD44",
        "outputId": "eb1b9839-2780-41ce-b275-d66ce33642e9"
      },
      "outputs": [
        {
          "output_type": "display_data",
          "data": {
            "text/plain": [
              "<IPython.core.display.HTML object>"
            ],
            "text/html": [
              "\n",
              "     <input type=\"file\" id=\"files-e8b26952-31c7-41f8-9d8f-a60546c84944\" name=\"files[]\" multiple disabled\n",
              "        style=\"border:none\" />\n",
              "     <output id=\"result-e8b26952-31c7-41f8-9d8f-a60546c84944\">\n",
              "      Upload widget is only available when the cell has been executed in the\n",
              "      current browser session. Please rerun this cell to enable.\n",
              "      </output>\n",
              "      <script src=\"/nbextensions/google.colab/files.js\"></script> "
            ]
          },
          "metadata": {}
        },
        {
          "output_type": "stream",
          "name": "stdout",
          "text": [
            "Saving NG.csv to NG.csv\n"
          ]
        }
      ],
      "source": [
        "from google.colab import files\n",
        "uploaded = files.upload()\n",
        "\n",
        "naturalgas = pd.read_csv(io.BytesIO(uploaded['NG.csv']))"
      ]
    },
    {
      "cell_type": "code",
      "execution_count": 4,
      "metadata": {
        "colab": {
          "base_uri": "https://localhost:8080/",
          "height": 73,
          "resources": {
            "http://localhost:8080/nbextensions/google.colab/files.js": {
              "data": "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",
              "headers": [
                [
                  "content-type",
                  "application/javascript"
                ]
              ],
              "ok": true,
              "status": 200,
              "status_text": ""
            }
          }
        },
        "id": "-z9rxgLVqU5R",
        "outputId": "c11f704f-f898-4026-d898-c08737779732"
      },
      "outputs": [
        {
          "output_type": "display_data",
          "data": {
            "text/plain": [
              "<IPython.core.display.HTML object>"
            ],
            "text/html": [
              "\n",
              "     <input type=\"file\" id=\"files-12729377-faf5-4e8f-a519-c34bf3b729d4\" name=\"files[]\" multiple disabled\n",
              "        style=\"border:none\" />\n",
              "     <output id=\"result-12729377-faf5-4e8f-a519-c34bf3b729d4\">\n",
              "      Upload widget is only available when the cell has been executed in the\n",
              "      current browser session. Please rerun this cell to enable.\n",
              "      </output>\n",
              "      <script src=\"/nbextensions/google.colab/files.js\"></script> "
            ]
          },
          "metadata": {}
        },
        {
          "output_type": "stream",
          "name": "stdout",
          "text": [
            "Saving GOLD.csv to GOLD.csv\n"
          ]
        }
      ],
      "source": [
        "from google.colab import files\n",
        "uploaded = files.upload()\n",
        "\n",
        "gold = pd.read_csv(io.BytesIO(uploaded['GOLD.csv']))"
      ]
    },
    {
      "cell_type": "code",
      "execution_count": 5,
      "metadata": {
        "colab": {
          "base_uri": "https://localhost:8080/",
          "height": 73,
          "resources": {
            "http://localhost:8080/nbextensions/google.colab/files.js": {
              "data": "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",
              "headers": [
                [
                  "content-type",
                  "application/javascript"
                ]
              ],
              "ok": true,
              "status": 200,
              "status_text": ""
            }
          }
        },
        "id": "wm4IcMNHqVY3",
        "outputId": "ba7ec2bd-3118-483d-c41a-26117df6a4d6"
      },
      "outputs": [
        {
          "output_type": "display_data",
          "data": {
            "text/plain": [
              "<IPython.core.display.HTML object>"
            ],
            "text/html": [
              "\n",
              "     <input type=\"file\" id=\"files-28fa8f06-5079-4aef-84cb-77a597e18e9b\" name=\"files[]\" multiple disabled\n",
              "        style=\"border:none\" />\n",
              "     <output id=\"result-28fa8f06-5079-4aef-84cb-77a597e18e9b\">\n",
              "      Upload widget is only available when the cell has been executed in the\n",
              "      current browser session. Please rerun this cell to enable.\n",
              "      </output>\n",
              "      <script src=\"/nbextensions/google.colab/files.js\"></script> "
            ]
          },
          "metadata": {}
        },
        {
          "output_type": "stream",
          "name": "stdout",
          "text": [
            "Saving CO.csv to CO.csv\n"
          ]
        }
      ],
      "source": [
        "from google.colab import files\n",
        "uploaded = files.upload()\n",
        "\n",
        "crudeoil = pd.read_csv(io.BytesIO(uploaded['CO.csv']))"
      ]
    },
    {
      "cell_type": "code",
      "execution_count": 6,
      "metadata": {
        "colab": {
          "base_uri": "https://localhost:8080/",
          "height": 73,
          "resources": {
            "http://localhost:8080/nbextensions/google.colab/files.js": {
              "data": "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",
              "headers": [
                [
                  "content-type",
                  "application/javascript"
                ]
              ],
              "ok": true,
              "status": 200,
              "status_text": ""
            }
          }
        },
        "id": "icUOlF5iqVuq",
        "outputId": "936651ee-0d3e-44b5-a890-f558c99acac6"
      },
      "outputs": [
        {
          "output_type": "display_data",
          "data": {
            "text/plain": [
              "<IPython.core.display.HTML object>"
            ],
            "text/html": [
              "\n",
              "     <input type=\"file\" id=\"files-26ae68e2-3e26-4865-9eea-c76d7c8702bd\" name=\"files[]\" multiple disabled\n",
              "        style=\"border:none\" />\n",
              "     <output id=\"result-26ae68e2-3e26-4865-9eea-c76d7c8702bd\">\n",
              "      Upload widget is only available when the cell has been executed in the\n",
              "      current browser session. Please rerun this cell to enable.\n",
              "      </output>\n",
              "      <script src=\"/nbextensions/google.colab/files.js\"></script> "
            ]
          },
          "metadata": {}
        },
        {
          "output_type": "stream",
          "name": "stdout",
          "text": [
            "Saving NSE.csv to NSE.csv\n"
          ]
        }
      ],
      "source": [
        "from google.colab import files\n",
        "uploaded = files.upload()\n",
        "\n",
        "nifty = pd.read_csv(io.BytesIO(uploaded['NSE.csv']))"
      ]
    },
    {
      "cell_type": "code",
      "execution_count": 7,
      "metadata": {
        "colab": {
          "base_uri": "https://localhost:8080/"
        },
        "id": "zR7fu0eEq5gz",
        "outputId": "b5caf409-4df3-4d92-f445-3f17d161ccd1"
      },
      "outputs": [
        {
          "output_type": "stream",
          "name": "stdout",
          "text": [
            "        Date  Price   Open   High    Low   Volume     Chg%\n",
            "0   Dec 2021  276.5  342.3  350.8  265.5    1.63M  -20.32%\n",
            "1   Nov 2021  347.0  406.9  433.8  338.2    1.36M  -15.16%\n",
            "2   Oct 2021  409.0  439.0  485.0  363.0    2.31M   -4.62%\n",
            "3   Sep 2021  428.8  319.5  467.8  319.5    2.83M   34.72%\n",
            "4   Aug 2021  318.3  292.9  331.2  278.1    2.88M    9.76%\n",
            "..       ...    ...    ...    ...    ...      ...      ...\n",
            "67  May 2016  155.0  143.0  155.6  131.8    1.10M    7.79%\n",
            "68  Apr 2016  143.8  130.2  147.9  126.1    1.17M   10.70%\n",
            "69  Mar 2016  129.9  118.2  134.4  109.0    1.31M    9.99%\n",
            "70  Feb 2016  118.1  155.0  155.0  116.5  863.08K  -24.25%\n",
            "71  Jan 2016  155.9  155.3  165.7  138.5    1.13M    0.00%\n",
            "\n",
            "[72 rows x 7 columns]\n",
            "        Date   Price    Open    High     Low   Volume    Chg%\n",
            "0   Dec 2021  48,099  47,550  48,785  46,388   93.06K   1.04%\n",
            "1   Nov 2021  47,606  47,615  49,610  46,872  127.18K  -0.06%\n",
            "2   Oct 2021  47,635  46,295  48,299  46,155  128.63K   2.83%\n",
            "3   Sep 2021  46,323  47,129  47,598  45,479  131.93K  -1.69%\n",
            "4   Aug 2021  47,120  47,780  48,450  45,662  121.21K  -1.52%\n",
            "..       ...     ...     ...     ...     ...      ...     ...\n",
            "67  May 2016  28,627  30,300  30,538  28,410  353.32K  -5.42%\n",
            "68  Apr 2016  30,266  28,561  30,375  27,970  280.56K   6.01%\n",
            "69  Mar 2016  28,549  29,650  30,161  28,270  404.84K  -3.27%\n",
            "70  Feb 2016  29,513  26,700  30,095  26,617  354.22K  10.79%\n",
            "71  Jan 2016  26,638  24,913  26,867  24,913  330.96K   6.85%\n",
            "\n",
            "[72 rows x 7 columns]\n",
            "        Date  Price   Open   High    Low Volume     Chg%\n",
            "0   Dec 2021  5,625  4,982  5,775  4,706  1.59M   14.89%\n",
            "1   Nov 2021  4,896  6,250  6,367  4,863  1.45M  -21.84%\n",
            "2   Oct 2021  6,264  5,564  6,428  5,509  1.32M   12.44%\n",
            "3   Sep 2021  5,571  5,048  5,675  4,911  1.08M   10.84%\n",
            "4   Aug 2021  5,026  5,494  5,494  4,634  1.30M   -8.90%\n",
            "..       ...    ...    ...    ...    ...    ...      ...\n",
            "67  May 2016  3,333  3,035  3,442  2,884  4.16M    9.82%\n",
            "68  Apr 2016  3,035  2,560  3,115  2,355  4.17M   18.00%\n",
            "69  Mar 2016  2,572  2,327  2,805  2,280  4.52M   10.81%\n",
            "70  Feb 2016  2,321  2,276  2,396  1,805  6.19M    1.53%\n",
            "71  Jan 2016  2,286  2,475  2,566  1,902  5.54M   -8.30%\n",
            "\n",
            "[72 rows x 7 columns]\n",
            "        Date      Price       Open       High        Low     Volume    Chg%\n",
            "0   Dec 2021  17,354.05  17,104.40  17,639.50  16,410.20  5,499.27B   2.18%\n",
            "1   Nov 2021  16,983.20  17,783.15  18,210.15  16,782.40  5,853.40B  -3.90%\n",
            "2   Oct 2021  17,671.65  17,531.90  18,604.45  17,452.90  7,651.08B   0.30%\n",
            "3   Sep 2021  17,618.15  17,185.60  17,947.65  17,055.05  6,955.53B   2.84%\n",
            "4   Aug 2021  17,132.20  15,874.90  17,153.50  15,834.65  6,349.87B   8.69%\n",
            "..       ...        ...        ...        ...        ...        ...     ...\n",
            "67  May 2016   8,160.10   7,822.70   8,213.60   7,678.35  4,496.41B   3.95%\n",
            "68  Apr 2016   7,849.80   7,718.05   7,992.00   7,516.85  3,647.98B   1.44%\n",
            "69  Mar 2016   7,738.40   7,038.25   7,777.60   7,035.10  4,958.35B  10.75%\n",
            "70  Feb 2016   6,987.05   7,589.50   7,600.45   6,825.80  5,330.30B  -7.62%\n",
            "71  Jan 2016   7,563.55   7,938.45   7,972.55   7,241.50  3,962.97B  -4.82%\n",
            "\n",
            "[72 rows x 7 columns]\n"
          ]
        },
        {
          "output_type": "execute_result",
          "data": {
            "text/plain": [
              "(None, None, None, None)"
            ]
          },
          "metadata": {},
          "execution_count": 7
        }
      ],
      "source": [
        "  # Checking all Data Values\n",
        "print(naturalgas), print(gold), print(crudeoil), print(nifty)"
      ]
    },
    {
      "cell_type": "code",
      "execution_count": 8,
      "metadata": {
        "id": "2tobrPjuqcuN"
      },
      "outputs": [],
      "source": [
        "naturalgas = naturalgas[::-1]\n",
        "gold = gold[::-1]\n",
        "nifty = nifty[::-1]\n",
        "crudeoil = crudeoil[::-1]"
      ]
    },
    {
      "cell_type": "code",
      "execution_count": 9,
      "metadata": {
        "colab": {
          "base_uri": "https://localhost:8080/"
        },
        "id": "8Wh5VrBbq-2h",
        "outputId": "57b6db6e-73a2-4842-a185-b34098d7c5d5"
      },
      "outputs": [
        {
          "output_type": "stream",
          "name": "stdout",
          "text": [
            "        Date  Price   Open   High    Low   Volume     Chg%\n",
            "71  Jan 2016  155.9  155.3  165.7  138.5    1.13M    0.00%\n",
            "70  Feb 2016  118.1  155.0  155.0  116.5  863.08K  -24.25%\n",
            "69  Mar 2016  129.9  118.2  134.4  109.0    1.31M    9.99%\n",
            "68  Apr 2016  143.8  130.2  147.9  126.1    1.17M   10.70%\n",
            "67  May 2016  155.0  143.0  155.6  131.8    1.10M    7.79%\n",
            "..       ...    ...    ...    ...    ...      ...      ...\n",
            "4   Aug 2021  318.3  292.9  331.2  278.1    2.88M    9.76%\n",
            "3   Sep 2021  428.8  319.5  467.8  319.5    2.83M   34.72%\n",
            "2   Oct 2021  409.0  439.0  485.0  363.0    2.31M   -4.62%\n",
            "1   Nov 2021  347.0  406.9  433.8  338.2    1.36M  -15.16%\n",
            "0   Dec 2021  276.5  342.3  350.8  265.5    1.63M  -20.32%\n",
            "\n",
            "[72 rows x 7 columns]\n",
            "        Date   Price    Open    High     Low   Volume    Chg%\n",
            "71  Jan 2016  26,638  24,913  26,867  24,913  330.96K   6.85%\n",
            "70  Feb 2016  29,513  26,700  30,095  26,617  354.22K  10.79%\n",
            "69  Mar 2016  28,549  29,650  30,161  28,270  404.84K  -3.27%\n",
            "68  Apr 2016  30,266  28,561  30,375  27,970  280.56K   6.01%\n",
            "67  May 2016  28,627  30,300  30,538  28,410  353.32K  -5.42%\n",
            "..       ...     ...     ...     ...     ...      ...     ...\n",
            "4   Aug 2021  47,120  47,780  48,450  45,662  121.21K  -1.52%\n",
            "3   Sep 2021  46,323  47,129  47,598  45,479  131.93K  -1.69%\n",
            "2   Oct 2021  47,635  46,295  48,299  46,155  128.63K   2.83%\n",
            "1   Nov 2021  47,606  47,615  49,610  46,872  127.18K  -0.06%\n",
            "0   Dec 2021  48,099  47,550  48,785  46,388   93.06K   1.04%\n",
            "\n",
            "[72 rows x 7 columns]\n",
            "        Date  Price   Open   High    Low Volume     Chg%\n",
            "71  Jan 2016  2,286  2,475  2,566  1,902  5.54M   -8.30%\n",
            "70  Feb 2016  2,321  2,276  2,396  1,805  6.19M    1.53%\n",
            "69  Mar 2016  2,572  2,327  2,805  2,280  4.52M   10.81%\n",
            "68  Apr 2016  3,035  2,560  3,115  2,355  4.17M   18.00%\n",
            "67  May 2016  3,333  3,035  3,442  2,884  4.16M    9.82%\n",
            "..       ...    ...    ...    ...    ...    ...      ...\n",
            "4   Aug 2021  5,026  5,494  5,494  4,634  1.30M   -8.90%\n",
            "3   Sep 2021  5,571  5,048  5,675  4,911  1.08M   10.84%\n",
            "2   Oct 2021  6,264  5,564  6,428  5,509  1.32M   12.44%\n",
            "1   Nov 2021  4,896  6,250  6,367  4,863  1.45M  -21.84%\n",
            "0   Dec 2021  5,625  4,982  5,775  4,706  1.59M   14.89%\n",
            "\n",
            "[72 rows x 7 columns]\n",
            "        Date      Price       Open       High        Low     Volume    Chg%\n",
            "71  Jan 2016   7,563.55   7,938.45   7,972.55   7,241.50  3,962.97B  -4.82%\n",
            "70  Feb 2016   6,987.05   7,589.50   7,600.45   6,825.80  5,330.30B  -7.62%\n",
            "69  Mar 2016   7,738.40   7,038.25   7,777.60   7,035.10  4,958.35B  10.75%\n",
            "68  Apr 2016   7,849.80   7,718.05   7,992.00   7,516.85  3,647.98B   1.44%\n",
            "67  May 2016   8,160.10   7,822.70   8,213.60   7,678.35  4,496.41B   3.95%\n",
            "..       ...        ...        ...        ...        ...        ...     ...\n",
            "4   Aug 2021  17,132.20  15,874.90  17,153.50  15,834.65  6,349.87B   8.69%\n",
            "3   Sep 2021  17,618.15  17,185.60  17,947.65  17,055.05  6,955.53B   2.84%\n",
            "2   Oct 2021  17,671.65  17,531.90  18,604.45  17,452.90  7,651.08B   0.30%\n",
            "1   Nov 2021  16,983.20  17,783.15  18,210.15  16,782.40  5,853.40B  -3.90%\n",
            "0   Dec 2021  17,354.05  17,104.40  17,639.50  16,410.20  5,499.27B   2.18%\n",
            "\n",
            "[72 rows x 7 columns]\n"
          ]
        },
        {
          "output_type": "execute_result",
          "data": {
            "text/plain": [
              "(None, None, None, None)"
            ]
          },
          "metadata": {},
          "execution_count": 9
        }
      ],
      "source": [
        "print(naturalgas), print(gold), print(crudeoil), print(nifty)"
      ]
    },
    {
      "cell_type": "code",
      "execution_count": 10,
      "metadata": {
        "id": "CVBYVvmmr2mx"
      },
      "outputs": [],
      "source": [
        "naturalgas.index = naturalgas.index.values[::-1]\n",
        "gold.index = gold.index.values[::-1]\n",
        "crudeoil.index = crudeoil.index.values[::-1]\n",
        "nifty.index = nifty.index.values[::-1]"
      ]
    },
    {
      "cell_type": "code",
      "execution_count": 11,
      "metadata": {
        "colab": {
          "base_uri": "https://localhost:8080/"
        },
        "id": "GEurpJRrsE1_",
        "outputId": "73132e82-c031-4168-e48e-00efbb3c3076"
      },
      "outputs": [
        {
          "output_type": "stream",
          "name": "stdout",
          "text": [
            "        Date  Price   Open   High    Low   Volume     Chg%\n",
            "0   Jan 2016  155.9  155.3  165.7  138.5    1.13M    0.00%\n",
            "1   Feb 2016  118.1  155.0  155.0  116.5  863.08K  -24.25%\n",
            "2   Mar 2016  129.9  118.2  134.4  109.0    1.31M    9.99%\n",
            "3   Apr 2016  143.8  130.2  147.9  126.1    1.17M   10.70%\n",
            "4   May 2016  155.0  143.0  155.6  131.8    1.10M    7.79%\n",
            "..       ...    ...    ...    ...    ...      ...      ...\n",
            "67  Aug 2021  318.3  292.9  331.2  278.1    2.88M    9.76%\n",
            "68  Sep 2021  428.8  319.5  467.8  319.5    2.83M   34.72%\n",
            "69  Oct 2021  409.0  439.0  485.0  363.0    2.31M   -4.62%\n",
            "70  Nov 2021  347.0  406.9  433.8  338.2    1.36M  -15.16%\n",
            "71  Dec 2021  276.5  342.3  350.8  265.5    1.63M  -20.32%\n",
            "\n",
            "[72 rows x 7 columns]\n",
            "        Date   Price    Open    High     Low   Volume    Chg%\n",
            "0   Jan 2016  26,638  24,913  26,867  24,913  330.96K   6.85%\n",
            "1   Feb 2016  29,513  26,700  30,095  26,617  354.22K  10.79%\n",
            "2   Mar 2016  28,549  29,650  30,161  28,270  404.84K  -3.27%\n",
            "3   Apr 2016  30,266  28,561  30,375  27,970  280.56K   6.01%\n",
            "4   May 2016  28,627  30,300  30,538  28,410  353.32K  -5.42%\n",
            "..       ...     ...     ...     ...     ...      ...     ...\n",
            "67  Aug 2021  47,120  47,780  48,450  45,662  121.21K  -1.52%\n",
            "68  Sep 2021  46,323  47,129  47,598  45,479  131.93K  -1.69%\n",
            "69  Oct 2021  47,635  46,295  48,299  46,155  128.63K   2.83%\n",
            "70  Nov 2021  47,606  47,615  49,610  46,872  127.18K  -0.06%\n",
            "71  Dec 2021  48,099  47,550  48,785  46,388   93.06K   1.04%\n",
            "\n",
            "[72 rows x 7 columns]\n",
            "        Date  Price   Open   High    Low Volume     Chg%\n",
            "0   Jan 2016  2,286  2,475  2,566  1,902  5.54M   -8.30%\n",
            "1   Feb 2016  2,321  2,276  2,396  1,805  6.19M    1.53%\n",
            "2   Mar 2016  2,572  2,327  2,805  2,280  4.52M   10.81%\n",
            "3   Apr 2016  3,035  2,560  3,115  2,355  4.17M   18.00%\n",
            "4   May 2016  3,333  3,035  3,442  2,884  4.16M    9.82%\n",
            "..       ...    ...    ...    ...    ...    ...      ...\n",
            "67  Aug 2021  5,026  5,494  5,494  4,634  1.30M   -8.90%\n",
            "68  Sep 2021  5,571  5,048  5,675  4,911  1.08M   10.84%\n",
            "69  Oct 2021  6,264  5,564  6,428  5,509  1.32M   12.44%\n",
            "70  Nov 2021  4,896  6,250  6,367  4,863  1.45M  -21.84%\n",
            "71  Dec 2021  5,625  4,982  5,775  4,706  1.59M   14.89%\n",
            "\n",
            "[72 rows x 7 columns]\n",
            "        Date      Price       Open       High        Low     Volume    Chg%\n",
            "0   Jan 2016   7,563.55   7,938.45   7,972.55   7,241.50  3,962.97B  -4.82%\n",
            "1   Feb 2016   6,987.05   7,589.50   7,600.45   6,825.80  5,330.30B  -7.62%\n",
            "2   Mar 2016   7,738.40   7,038.25   7,777.60   7,035.10  4,958.35B  10.75%\n",
            "3   Apr 2016   7,849.80   7,718.05   7,992.00   7,516.85  3,647.98B   1.44%\n",
            "4   May 2016   8,160.10   7,822.70   8,213.60   7,678.35  4,496.41B   3.95%\n",
            "..       ...        ...        ...        ...        ...        ...     ...\n",
            "67  Aug 2021  17,132.20  15,874.90  17,153.50  15,834.65  6,349.87B   8.69%\n",
            "68  Sep 2021  17,618.15  17,185.60  17,947.65  17,055.05  6,955.53B   2.84%\n",
            "69  Oct 2021  17,671.65  17,531.90  18,604.45  17,452.90  7,651.08B   0.30%\n",
            "70  Nov 2021  16,983.20  17,783.15  18,210.15  16,782.40  5,853.40B  -3.90%\n",
            "71  Dec 2021  17,354.05  17,104.40  17,639.50  16,410.20  5,499.27B   2.18%\n",
            "\n",
            "[72 rows x 7 columns]\n"
          ]
        },
        {
          "output_type": "execute_result",
          "data": {
            "text/plain": [
              "(None, None, None, None)"
            ]
          },
          "metadata": {},
          "execution_count": 11
        }
      ],
      "source": [
        "print(naturalgas), print(gold), print(crudeoil), print(nifty)"
      ]
    },
    {
      "cell_type": "code",
      "execution_count": 12,
      "metadata": {
        "colab": {
          "base_uri": "https://localhost:8080/"
        },
        "id": "SVmpkuoj7JTI",
        "outputId": "ad8a4c80-9bdf-4216-87dd-6c2bb45bc6f1"
      },
      "outputs": [
        {
          "output_type": "stream",
          "name": "stdout",
          "text": [
            "<class 'pandas.core.series.Series'>\n",
            "<class 'pandas.core.series.Series'>\n"
          ]
        }
      ],
      "source": [
        "print(type(naturalgas['Price']))\n",
        "print(type(crudeoil['Price']))"
      ]
    },
    {
      "cell_type": "code",
      "execution_count": 13,
      "metadata": {
        "colab": {
          "base_uri": "https://localhost:8080/"
        },
        "id": "LmwZ0MATuOVF",
        "outputId": "0bfb56d1-9f9d-49ba-8850-5d792d881cdc"
      },
      "outputs": [
        {
          "output_type": "stream",
          "name": "stdout",
          "text": [
            "<class 'numpy.ndarray'>\n",
            "<class 'numpy.ndarray'>\n",
            "[155.9 118.1 129.9 143.8 155.  197.3 192.9 194.4 194.  204.1 229.6 252.\n",
            " 212.8 185.  205.8 212.1 198.6 193.8 180.  194.8 198.4 187.8 197.1 189.7\n",
            " 190.5 175.9 179.4 183.8 199.5 200.8 192.8 206.9 218.  241.6 317.4 212.2\n",
            " 201.5 199.7 186.7 180.8 172.3 160.5 155.1 165.1 165.8 187.  167.2 155.5\n",
            " 132.4 124.3 131.4 144.2 135.9 130.4 135.6 190.7 186.5 247.7 216.7 182.1\n",
            " 191.5 205.9 191.1 218.  221.8 272.2 290.  318.3 428.8 409.  347.  276.5]\n",
            "['2,286' '2,321' '2,572' '3,035' '3,333' '3,304' '2,782' '3,003' '3,212'\n",
            " '3,153' '3,377' '3,650' '3,614' '3,566' '3,284' '3,174' '3,127' '2,968'\n",
            " '3,183' '3,038' '3,373' '3,528' '3,687' '3,850' '4,112' '4,093' '4,234'\n",
            " '4,583' '4,517' '5,086' '4,734' '4,959' '5,335' '4,892' '3,576' '3,170'\n",
            " '3,869' '4,058' '4,185' '4,467' '3,775' '4,095' '4,032' '3,952' '3,880'\n",
            " '3,853' '3,980' '4,386' '3,683' '3,263' '1,680' '1,315' '2,564' '3,015'\n",
            " '3,023' '3,145' '2,934' '2,642' '3,326' '3,524' '3,820' '4,604' '4,384'\n",
            " '4,723' '4,870' '5,492' '5,517' '5,026' '5,571' '6,264' '4,896' '5,625']\n"
          ]
        },
        {
          "output_type": "execute_result",
          "data": {
            "text/plain": [
              "(None, None)"
            ]
          },
          "metadata": {},
          "execution_count": 13
        }
      ],
      "source": [
        "naturalgas_s = naturalgas['Price'].values[:]\n",
        "crudeoil_s = crudeoil['Price'].values[:]\n",
        "gold_s = gold['Price'].values[:]\n",
        "nifty_s = nifty['Price'].values[:]\n",
        "\n",
        "print(type(naturalgas_s))\n",
        "print(type(crudeoil_s))\n",
        "\n",
        "print(naturalgas_s), print(crudeoil_s)"
      ]
    },
    {
      "cell_type": "code",
      "execution_count": 14,
      "metadata": {
        "id": "IrLbowf7yLR_"
      },
      "outputs": [],
      "source": [
        "crudeoil_s_temp = []\n",
        "for val in crudeoil_s:\n",
        "  crudeoil_s_temp.append(val.replace(',', ''))\n",
        "\n",
        "naturalgas_s_temp = []\n",
        "for val in naturalgas_s:\n",
        "  naturalgas_s_temp.append(val)\n",
        "\n",
        "gold_s_temp = []\n",
        "for val in gold_s:\n",
        "  gold_s_temp.append(val.replace(',', ''))\n",
        "\n",
        "nifty_s_temp = []\n",
        "for val in nifty_s:\n",
        "  nifty_s_temp.append(val.replace(',', ''))"
      ]
    },
    {
      "cell_type": "code",
      "execution_count": 15,
      "metadata": {
        "colab": {
          "base_uri": "https://localhost:8080/"
        },
        "id": "way2BVZl7vI2",
        "outputId": "5101337f-e54e-4ba3-e08e-5b5580f15473"
      },
      "outputs": [
        {
          "output_type": "stream",
          "name": "stdout",
          "text": [
            "<class 'list'>\n",
            "<class 'list'>\n",
            "[155.9, 118.1, 129.9, 143.8, 155.0, 197.3, 192.9, 194.4, 194.0, 204.1, 229.6, 252.0, 212.8, 185.0, 205.8, 212.1, 198.6, 193.8, 180.0, 194.8, 198.4, 187.8, 197.1, 189.7, 190.5, 175.9, 179.4, 183.8, 199.5, 200.8, 192.8, 206.9, 218.0, 241.6, 317.4, 212.2, 201.5, 199.7, 186.7, 180.8, 172.3, 160.5, 155.1, 165.1, 165.8, 187.0, 167.2, 155.5, 132.4, 124.3, 131.4, 144.2, 135.9, 130.4, 135.6, 190.7, 186.5, 247.7, 216.7, 182.1, 191.5, 205.9, 191.1, 218.0, 221.8, 272.2, 290.0, 318.3, 428.8, 409.0, 347.0, 276.5]\n",
            "['2286', '2321', '2572', '3035', '3333', '3304', '2782', '3003', '3212', '3153', '3377', '3650', '3614', '3566', '3284', '3174', '3127', '2968', '3183', '3038', '3373', '3528', '3687', '3850', '4112', '4093', '4234', '4583', '4517', '5086', '4734', '4959', '5335', '4892', '3576', '3170', '3869', '4058', '4185', '4467', '3775', '4095', '4032', '3952', '3880', '3853', '3980', '4386', '3683', '3263', '1680', '1315', '2564', '3015', '3023', '3145', '2934', '2642', '3326', '3524', '3820', '4604', '4384', '4723', '4870', '5492', '5517', '5026', '5571', '6264', '4896', '5625']\n"
          ]
        },
        {
          "output_type": "execute_result",
          "data": {
            "text/plain": [
              "(None, None)"
            ]
          },
          "metadata": {},
          "execution_count": 15
        }
      ],
      "source": [
        "print(type(naturalgas_s_temp))\n",
        "print(type(crudeoil_s_temp))\n",
        "\n",
        "print(naturalgas_s_temp), print(crudeoil_s_temp)"
      ]
    },
    {
      "cell_type": "code",
      "execution_count": 16,
      "metadata": {
        "id": "noKSAOhe8Sfe"
      },
      "outputs": [],
      "source": [
        "crudeoil_s_temp_f = [float(val) for val in crudeoil_s_temp]\n",
        "gold_s_temp_f = [float(val) for val in gold_s_temp]\n",
        "nifty_s_temp_f = [float(val) for val in nifty_s_temp]\n",
        "naturalgas_s_temp_f = [float(val) for val in naturalgas_s_temp]"
      ]
    },
    {
      "cell_type": "code",
      "execution_count": 17,
      "metadata": {
        "colab": {
          "base_uri": "https://localhost:8080/"
        },
        "id": "0SOFKSFd8r9Y",
        "outputId": "e4ff6baa-9967-4b31-8fcd-5fcc5ef2be57"
      },
      "outputs": [
        {
          "output_type": "stream",
          "name": "stdout",
          "text": [
            "[155.9, 118.1, 129.9, 143.8, 155.0, 197.3, 192.9, 194.4, 194.0, 204.1, 229.6, 252.0, 212.8, 185.0, 205.8, 212.1, 198.6, 193.8, 180.0, 194.8, 198.4, 187.8, 197.1, 189.7, 190.5, 175.9, 179.4, 183.8, 199.5, 200.8, 192.8, 206.9, 218.0, 241.6, 317.4, 212.2, 201.5, 199.7, 186.7, 180.8, 172.3, 160.5, 155.1, 165.1, 165.8, 187.0, 167.2, 155.5, 132.4, 124.3, 131.4, 144.2, 135.9, 130.4, 135.6, 190.7, 186.5, 247.7, 216.7, 182.1, 191.5, 205.9, 191.1, 218.0, 221.8, 272.2, 290.0, 318.3, 428.8, 409.0, 347.0, 276.5]\n",
            "[2286.0, 2321.0, 2572.0, 3035.0, 3333.0, 3304.0, 2782.0, 3003.0, 3212.0, 3153.0, 3377.0, 3650.0, 3614.0, 3566.0, 3284.0, 3174.0, 3127.0, 2968.0, 3183.0, 3038.0, 3373.0, 3528.0, 3687.0, 3850.0, 4112.0, 4093.0, 4234.0, 4583.0, 4517.0, 5086.0, 4734.0, 4959.0, 5335.0, 4892.0, 3576.0, 3170.0, 3869.0, 4058.0, 4185.0, 4467.0, 3775.0, 4095.0, 4032.0, 3952.0, 3880.0, 3853.0, 3980.0, 4386.0, 3683.0, 3263.0, 1680.0, 1315.0, 2564.0, 3015.0, 3023.0, 3145.0, 2934.0, 2642.0, 3326.0, 3524.0, 3820.0, 4604.0, 4384.0, 4723.0, 4870.0, 5492.0, 5517.0, 5026.0, 5571.0, 6264.0, 4896.0, 5625.0]\n",
            "[26638.0, 29513.0, 28549.0, 30266.0, 28627.0, 31199.0, 31549.0, 30724.0, 30742.0, 29950.0, 28385.0, 27445.0, 28942.0, 29566.0, 28463.0, 28873.0, 28843.0, 28439.0, 28557.0, 29745.0, 29557.0, 29153.0, 29012.0, 29156.0, 30117.0, 30379.0, 30408.0, 31036.0, 30831.0, 30432.0, 29653.0, 30129.0, 30481.0, 31748.0, 30240.0, 31391.0, 33056.0, 32981.0, 31734.0, 31756.0, 32098.0, 34206.0, 34517.0, 38656.0, 36913.0, 38578.0, 38031.0, 39108.0, 41000.0, 41397.0, 43255.0, 44906.0, 46654.0, 48762.0, 53828.0, 51701.0, 50404.0, 50699.0, 47792.0, 50151.0, 49096.0, 45736.0, 44637.0, 46737.0, 48821.0, 46839.0, 47846.0, 47120.0, 46323.0, 47635.0, 47606.0, 48099.0]\n",
            "[7563.55, 6987.05, 7738.4, 7849.8, 8160.1, 8287.75, 8638.5, 8786.2, 8611.15, 8625.7, 8224.5, 8185.8, 8561.3, 8879.6, 9173.75, 9304.05, 9621.25, 9520.9, 10077.1, 9917.9, 9788.6, 10335.3, 10226.55, 10530.7, 11027.7, 10492.85, 10113.7, 10739.35, 10736.15, 10714.3, 11356.5, 11680.5, 10930.45, 10386.6, 10876.75, 10862.55, 10830.95, 10792.5, 11623.9, 11748.15, 11922.8, 11788.85, 11118.0, 11023.25, 11474.45, 11877.45, 12056.05, 12168.45, 11962.1, 11201.75, 8597.75, 9859.9, 9580.3, 10302.1, 11073.45, 11387.5, 11247.55, 11642.4, 12968.95, 13981.75, 13634.6, 14529.15, 14690.7, 14631.1, 15582.8, 15721.5, 15763.05, 17132.2, 17618.15, 17671.65, 16983.2, 17354.05]\n",
            "<class 'list'>\n",
            "<class 'list'>\n",
            "<class 'list'>\n",
            "<class 'list'>\n"
          ]
        },
        {
          "output_type": "execute_result",
          "data": {
            "text/plain": [
              "(None, None, None, None)"
            ]
          },
          "metadata": {},
          "execution_count": 17
        }
      ],
      "source": [
        "print(naturalgas_s_temp_f), print(crudeoil_s_temp_f), print(gold_s_temp_f), print(nifty_s_temp_f)\n",
        "print(type(naturalgas_s_temp_f)), print(type(crudeoil_s_temp_f)), print(type(gold_s_temp_f)), print(type(nifty_s_temp_f))"
      ]
    },
    {
      "cell_type": "code",
      "execution_count": 18,
      "metadata": {
        "id": "YaxnAW3svsVQ"
      },
      "outputs": [],
      "source": [
        "naturalgas_returns = []\n",
        "crudeoil_returns = []\n",
        "gold_returns = []\n",
        "nifty_returns = []\n",
        "\n",
        "for i in range(1, len(naturalgas_s_temp_f)+1):\n",
        "  if i<72:\n",
        "    naturalgas_returns.append(np.log(naturalgas_s_temp_f[i] / naturalgas_s_temp_f[i-1]))\n",
        "\n",
        "for i in range(1, len(crudeoil_s_temp_f)+1):\n",
        "  if i<72:\n",
        "    crudeoil_returns.append(np.log(float(crudeoil_s_temp_f[i]) / float(crudeoil_s_temp_f[i-1])))\n",
        "\n",
        "for i in range(1, len(gold_s_temp_f)+1):\n",
        "  if i<72:\n",
        "    gold_returns.append(np.log(gold_s_temp_f[i] / gold_s_temp_f[i-1]))\n",
        "\n",
        "for i in range(1, len(nifty_s_temp_f)+1):\n",
        "  if i<72:\n",
        "    nifty_returns.append(np.log(nifty_s_temp_f[i] / nifty_s_temp_f[i-1]))"
      ]
    },
    {
      "cell_type": "code",
      "execution_count": 19,
      "metadata": {
        "colab": {
          "base_uri": "https://localhost:8080/"
        },
        "id": "IU1-9FUgxpkX",
        "outputId": "dd6c9bbf-66e0-4798-ed5d-e64f39c2ea70"
      },
      "outputs": [
        {
          "output_type": "stream",
          "name": "stdout",
          "text": [
            "[-0.2776830528604142, 0.09523320047323736, 0.10165852161039247, 0.07500167163230026, 0.24130029610932308, -0.022553493116886293, 0.007745972114655329, -0.002059732963010616, 0.05075191075247101, 0.11772859462961217, 0.09309042306601203, -0.169076330043934, -0.1399969323891646, 0.10654899832162437, 0.030153038170687457, -0.06576510995956453, -0.024466052154406268, -0.07386984856645552, 0.07901654031822433, 0.018311803642337688, -0.05490762807660981, 0.048333647384511805, -0.038267337217706, 0.0042083176257871405, -0.07973654282324308, 0.019702297881183186, 0.024230260296890987, 0.08196602640833149, 0.006495151487655972, -0.04065600564112885, 0.07058220257505207, 0.052259478037591595, 0.10278840327157093, 0.27287934203164876, -0.402633581912426, -0.05173984479314504, -0.008973140964968181, -0.06731318987409254, -0.03211160258960063, -0.04815430442419222, -0.07094320096381349, -0.034223872387577486, 0.06248128074358922, 0.004230891775112437, 0.12032637415339202, -0.11191791620398545, -0.07254496903131241, -0.16081808811638088, -0.06312964498624249, 0.055548107533844794, 0.09295511880033835, -0.059281903693750526, -0.04131267166454547, 0.03910272601374261, 0.3409921371000781, -0.022270273522503107, 0.2837870974114436, -0.1337044279530005, -0.17395792180875114, 0.050331821887138486, 0.0725028054130431, -0.07459376278751642, 0.1316982115428617, 0.017281012127177788, 0.204761015301099, 0.063343832763154, 0.09311341130752754, 0.2979962754685451, -0.04727545371379053, -0.1643903760959426, -0.2271139589844697]\n",
            "[0.015194561919681144, 0.10268567908307288, 0.16552761813608866, 0.0936613748141411, -0.008738943666871007, -0.17196376215748052, 0.07644169549994212, 0.06728200708332199, -0.018539415521591437, 0.06863336084050684, 0.0777394261909695, -0.009911975424363433, -0.013370672729088106, -0.08238232785076685, -0.0340695694859644, -0.014918543628513092, -0.05218575317057019, 0.06993582299482179, -0.04662474412637469, 0.104603151905932, 0.0449285820650317, 0.04408198110746256, 0.04326002904768534, 0.06583637985317121, -0.004631330642598018, 0.03386897520240754, 0.07920663281431363, -0.014505748854519928, 0.11864361032746082, -0.07172115590813564, 0.04643359641520464, 0.0730847772467198, -0.08668766692879075, -0.31335636051365817, -0.12051326942207852, 0.1992644878291867, 0.04769416568524706, 0.03081646253781575, 0.06521033842854292, -0.16831665966899365, 0.08136633460404467, -0.015504186535965199, -0.020040750883446153, -0.018386626250439315, -0.006983087991161513, 0.0324297536523257, 0.09713583069935004, -0.1746900125327682, -0.12108061985174474, -0.6638532241960159, -0.24495712778543968, 0.6677318734286957, 0.16203129112072523, 0.0026498856181723118, 0.03956417435508295, -0.06944721043161393, -0.10483047362065644, 0.23023417467060242, 0.057826327303197075, 0.0806537145445508, 0.18667506824115232, -0.048963941213921745, 0.07448264126826559, 0.030649746180518394, 0.12019855081122627, 0.004541746384569176, -0.09320979516889329, 0.10295013191727795, 0.11724438764982358, -0.24640041347847697, 0.1388024028804589]\n",
            "[0.10249207646301889, -0.03320893502297479, 0.05840306104595156, -0.05567464183552209, 0.08603571459041974, 0.011155849744092465, -0.02649778462738899, 0.0005856896663048721, -0.026100473241282042, -0.0536684879387688, -0.03367683462083698, 0.05310982531394833, 0.021331225163097236, -0.038020054269248885, 0.01430190416417795, -0.0010395731756110084, -0.014105886625387122, 0.004140647364448978, 0.04075896070259116, -0.006340448208144299, -0.013762778978734073, -0.004848285951824739, 0.004951186018800626, 0.032429072857532694, 0.0086617838560078, 0.0009541514534404671, 0.02044208934475523, -0.006627143720657053, -0.013025990948065875, -0.02593138559919212, 0.01592486231552403, 0.01161537559990032, 0.04072619254941728, -0.04866417991729681, 0.03735567631448583, 0.051681865311409884, -0.002271454858546489, -0.03854297676678373, 0.0006930225509691283, 0.010712039036097557, 0.06360734437853544, 0.009050889019802503, 0.11325004601504732, -0.04613820978714738, 0.044118373276846035, -0.01428054917734917, 0.027925433018725375, 0.04724501706088305, 0.009636347733219164, 0.04390441919481045, 0.037458582477671434, 0.03818725241635522, 0.04419265247275846, 0.09884245688017212, -0.04031665419220471, -0.025406586679643545, 0.005835649529295085, -0.05904792506298781, 0.04818019291484939, -0.02126088930180752, -0.07089183112512568, -0.024322622448000184, 0.045973030684731186, 0.04362440596506982, -0.04144435893597816, 0.02127133061089673, -0.015289980495058373, -0.01705894133649443, 0.027929187151905906, -0.0006089814448869491, 0.010302583160954212]\n",
            "[-0.0792822210025337, 0.10213651219436126, 0.014293105876548232, 0.038768370040137425, 0.015522097166632045, 0.04145043566318204, 0.0169533521491703, -0.02012443363995342, 0.0016882439025493836, -0.047628614514390086, -0.0047165587153294415, 0.044851101966829475, 0.03650446316289939, 0.032589633932660345, 0.014103644357461732, 0.03352440463179275, -0.010484811716407845, 0.05677614068741407, -0.015924317499244247, -0.013122762085997719, 0.05434677703648236, -0.010577940606205967, 0.029307520987116552, 0.04611548863993579, -0.0497162164803359, -0.03680313246613218, 0.06002362547093872, -0.0002980140181773319, -0.002037254002335001, 0.058210969415892495, 0.028130517473679395, -0.06636831227332562, -0.05103595860108597, 0.04611096974021547, -0.0013063899959558677, -0.002913317108829083, -0.0035563280165367825, 0.07421187489290984, 0.01063245804520186, 0.014756751995927516, -0.01129836387799864, -0.05858875297225855, -0.008558737956063128, 0.04011614593947718, 0.03451881991531124, 0.014924964198132653, 0.009279927893550413, -0.017103218128211195, -0.06567330229818577, -0.2645694749733552, 0.13697548545335014, -0.028767119842743365, 0.07263885121677992, 0.07220259333401124, 0.027965911302744725, -0.012365935430449034, 0.03450327946135176, 0.1079044323818265, 0.0751948687995384, -0.025142228198069005, 0.06354629661486035, 0.011057664298936155, -0.004065240338587641, 0.06301834170649676, 0.008861460414223806, 0.0026393913281980434, 0.08329114012081872, 0.027969886925890988, 0.00303203990879172, -0.039737040444249035, 0.02160128841162364]\n",
            "71\n",
            "71\n",
            "71\n",
            "71\n"
          ]
        }
      ],
      "source": [
        "print(naturalgas_returns)\n",
        "print(crudeoil_returns)\n",
        "print(gold_returns)\n",
        "print(nifty_returns)\n",
        "\n",
        "\n",
        "\n",
        "print(len(naturalgas_returns))\n",
        "print(len(crudeoil_returns))\n",
        "print(len(gold_returns))\n",
        "print(len(nifty_returns))"
      ]
    },
    {
      "cell_type": "code",
      "execution_count": 20,
      "metadata": {
        "colab": {
          "base_uri": "https://localhost:8080/",
          "height": 282
        },
        "id": "k_ZTPMbZBWOU",
        "outputId": "4f8f0025-6a98-4213-bb40-cdf9d7132159"
      },
      "outputs": [
        {
          "output_type": "execute_result",
          "data": {
            "text/plain": [
              "[<matplotlib.lines.Line2D at 0x7f4d1205be10>]"
            ]
          },
          "metadata": {},
          "execution_count": 20
        },
        {
          "output_type": "display_data",
          "data": {
            "text/plain": [
              "<Figure size 432x288 with 1 Axes>"
            ],
            "image/png": "[encoded data removed]"
          },
          "metadata": {
            "needs_background": "light"
          }
        }
      ],
      "source": [
        "import matplotlib.pyplot as plt\n",
        "plt.plot(naturalgas_returns)"
      ]
    },
    {
      "cell_type": "code",
      "execution_count": 21,
      "metadata": {
        "colab": {
          "base_uri": "https://localhost:8080/"
        },
        "id": "k3VFPhxD2ra4",
        "outputId": "270b865c-9d14-41e6-cac0-7378cb8cf9b9"
      },
      "outputs": [
        {
          "output_type": "stream",
          "name": "stdout",
          "text": [
            "Requirement already satisfied: statsmodels in /usr/local/lib/python3.7/dist-packages (0.10.2)\n",
            "Requirement already satisfied: numpy>=1.11 in /usr/local/lib/python3.7/dist-packages (from statsmodels) (1.21.5)\n",
            "Requirement already satisfied: pandas>=0.19 in /usr/local/lib/python3.7/dist-packages (from statsmodels) (1.3.5)\n",
            "Requirement already satisfied: scipy>=0.18 in /usr/local/lib/python3.7/dist-packages (from statsmodels) (1.4.1)\n",
            "Requirement already satisfied: patsy>=0.4.0 in /usr/local/lib/python3.7/dist-packages (from statsmodels) (0.5.2)\n",
            "Requirement already satisfied: python-dateutil>=2.7.3 in /usr/local/lib/python3.7/dist-packages (from pandas>=0.19->statsmodels) (2.8.2)\n",
            "Requirement already satisfied: pytz>=2017.3 in /usr/local/lib/python3.7/dist-packages (from pandas>=0.19->statsmodels) (2018.9)\n",
            "Requirement already satisfied: six in /usr/local/lib/python3.7/dist-packages (from patsy>=0.4.0->statsmodels) (1.15.0)\n"
          ]
        }
      ],
      "source": [
        "!pip install statsmodels"
      ]
    },
    {
      "cell_type": "code",
      "execution_count": 22,
      "metadata": {
        "colab": {
          "base_uri": "https://localhost:8080/"
        },
        "id": "CYhwMtwO2xES",
        "outputId": "3ff79a5f-ca81-406d-ffd0-146fef5bba67"
      },
      "outputs": [
        {
          "output_type": "stream",
          "name": "stderr",
          "text": [
            "/usr/local/lib/python3.7/dist-packages/statsmodels/tools/_testing.py:19: FutureWarning: pandas.util.testing is deprecated. Use the functions in the public API at pandas.testing instead.\n",
            "  import pandas.util.testing as tm\n"
          ]
        },
        {
          "output_type": "stream",
          "name": "stdout",
          "text": [
            "(-8.23796371330896, 5.820500403183683e-13, 0, 70, {'1%': -3.5274258688046647, '5%': -2.903810816326531, '10%': -2.5893204081632653}, -72.6431381167883)\n",
            "(-10.164522424433802, 7.358506756393832e-18, 0, 70, {'1%': -3.5274258688046647, '5%': -2.903810816326531, '10%': -2.5893204081632653}, -217.8430451437685)\n",
            "(-6.0417502428581065, 1.3408365316077425e-07, 3, 67, {'1%': -3.5319549603840894, '5%': -2.905755128523123, '10%': -2.5903569458676765}, -45.86436825396028)\n",
            "(-9.209266923551517, 1.9072395454772706e-15, 0, 70, {'1%': -3.5274258688046647, '5%': -2.903810816326531, '10%': -2.5893204081632653}, -166.4810817191243)\n"
          ]
        }
      ],
      "source": [
        "from statsmodels.tsa.stattools import adfuller\n",
        "print(adfuller(naturalgas_returns))\n",
        "print(adfuller(gold_returns))\n",
        "print(adfuller(crudeoil_returns))\n",
        "print(adfuller(nifty_returns))"
      ]
    },
    {
      "cell_type": "markdown",
      "metadata": {
        "id": "-CrZ_LI_3cuD"
      },
      "source": [
        "<h3>Since P values for all of these is less than 0.05 we can conclude that all the series are stationary and there are no time dependent structure in any of them. There are no long run relationships, there may exists only smaller interval relationships, which is true because, situation today can be a result of situation a week ago, highly unlikely to be depending upon situation a \n",
        "month ago.\n",
        "</h3>"
      ]
    },
    {
      "cell_type": "code",
      "execution_count": 23,
      "metadata": {
        "colab": {
          "base_uri": "https://localhost:8080/"
        },
        "id": "S9kF_svo3pLY",
        "outputId": "c9623144-8c9e-444f-e39b-9c899edbe0ff"
      },
      "outputs": [
        {
          "output_type": "stream",
          "name": "stdout",
          "text": [
            "Collecting git+https://github.com/RJT1990/pyflux\n",
            "  Cloning https://github.com/RJT1990/pyflux to /tmp/pip-req-build-q87kqre1\n",
            "  Running command git clone -q https://github.com/RJT1990/pyflux /tmp/pip-req-build-q87kqre1\n",
            "Requirement already satisfied: numpy in /usr/local/lib/python3.7/dist-packages (from pyflux==0.4.17) (1.21.5)\n",
            "Requirement already satisfied: pandas in /usr/local/lib/python3.7/dist-packages (from pyflux==0.4.17) (1.3.5)\n",
            "Requirement already satisfied: scipy in /usr/local/lib/python3.7/dist-packages (from pyflux==0.4.17) (1.4.1)\n",
            "Collecting numdifftools\n",
            "  Downloading numdifftools-0.9.40-py2.py3-none-any.whl (99 kB)\n",
            "\u001b[K     |████████████████████████████████| 99 kB 3.4 MB/s \n",
            "\u001b[?25hRequirement already satisfied: patsy in /usr/local/lib/python3.7/dist-packages (from pyflux==0.4.17) (0.5.2)\n",
            "Requirement already satisfied: statsmodels>=0.6 in /usr/local/lib/python3.7/dist-packages (from numdifftools->pyflux==0.4.17) (0.10.2)\n",
            "Collecting algopy>=0.4\n",
            "  Downloading algopy-0.5.7.zip (189 kB)\n",
            "\u001b[K     |████████████████████████████████| 189 kB 29.1 MB/s \n",
            "\u001b[?25hRequirement already satisfied: pytz>=2017.3 in /usr/local/lib/python3.7/dist-packages (from pandas->pyflux==0.4.17) (2018.9)\n",
            "Requirement already satisfied: python-dateutil>=2.7.3 in /usr/local/lib/python3.7/dist-packages (from pandas->pyflux==0.4.17) (2.8.2)\n",
            "Requirement already satisfied: six in /usr/local/lib/python3.7/dist-packages (from patsy->pyflux==0.4.17) (1.15.0)\n",
            "Building wheels for collected packages: pyflux, algopy\n",
            "  Building wheel for pyflux (setup.py) ... \u001b[?25l\u001b[?25hdone\n",
            "  Created wheel for pyflux: filename=pyflux-0.4.17-cp37-cp37m-linux_x86_64.whl size=5225732 sha256=336cdbdc0daab6b2974d2b1034e91e4e90a1c9cc584f4c5d55a637d335c1ea43\n",
            "  Stored in directory: /tmp/pip-ephem-wheel-cache-2qzjp9r4/wheels/96/8f/9c/4523f6aab114103428254ec8f7260d52bffaa1ea1add77a487\n",
            "  Building wheel for algopy (setup.py) ... \u001b[?25l\u001b[?25hdone\n",
            "  Created wheel for algopy: filename=algopy-0.5.7-py3-none-any.whl size=107608 sha256=5b8317fc43cbd4fde5e867510b88217656f44d696316f65411f7f746ad3ab0a7\n",
            "  Stored in directory: /root/.cache/pip/wheels/a8/fd/06/21dc6aba9f680fdbde386c06b1a8a1cf3d9a5f6bd96e31dcd4\n",
            "Successfully built pyflux algopy\n",
            "Installing collected packages: algopy, numdifftools, pyflux\n",
            "Successfully installed algopy-0.5.7 numdifftools-0.9.40 pyflux-0.4.17\n"
          ]
        }
      ],
      "source": [
        "###NOT USING THIS\n",
        "import numpy as np\n",
        "!pip install git+https://github.com/RJT1990/pyflux\n",
        "#import pyflux as pf\n",
        "import pandas as pd\n",
        "from pandas_datareader import DataReader\n",
        "from datetime import datetime"
      ]
    },
    {
      "cell_type": "code",
      "execution_count": 24,
      "metadata": {
        "id": "6rIwPXOpi-4P"
      },
      "outputs": [],
      "source": [
        "import matplotlib.pyplot as plt\n",
        "%matplotlib inline"
      ]
    },
    {
      "cell_type": "code",
      "execution_count": 25,
      "metadata": {
        "colab": {
          "base_uri": "https://localhost:8080/",
          "height": 1000
        },
        "id": "4RuSwc06XQiP",
        "outputId": "1b88a57a-6a08-4641-8e01-498741b00b8c"
      },
      "outputs": [
        {
          "output_type": "display_data",
          "data": {
            "text/plain": [
              "<Figure size 1080x360 with 1 Axes>"
            ],
            "image/png": "[encoded data removed]"
          },
          "metadata": {
            "needs_background": "light"
          }
        },
        {
          "output_type": "stream",
          "name": "stdout",
          "text": [
            "\n"
          ]
        },
        {
          "output_type": "display_data",
          "data": {
            "text/plain": [
              "<Figure size 1080x360 with 1 Axes>"
            ],
            "image/png": "[encoded data removed]"
          },
          "metadata": {
            "needs_background": "light"
          }
        },
        {
          "output_type": "stream",
          "name": "stdout",
          "text": [
            "\n"
          ]
        },
        {
          "output_type": "display_data",
          "data": {
            "text/plain": [
              "<Figure size 1080x360 with 1 Axes>"
            ],
            "image/png": "[encoded data removed]"
          },
          "metadata": {
            "needs_background": "light"
          }
        },
        {
          "output_type": "stream",
          "name": "stdout",
          "text": [
            "\n"
          ]
        },
        {
          "output_type": "display_data",
          "data": {
            "text/plain": [
              "<Figure size 1080x360 with 1 Axes>"
            ],
            "image/png": "[encoded data removed]"
          },
          "metadata": {
            "needs_background": "light"
          }
        },
        {
          "output_type": "stream",
          "name": "stdout",
          "text": [
            "\n"
          ]
        },
        {
          "output_type": "display_data",
          "data": {
            "text/plain": [
              "<Figure size 1080x360 with 1 Axes>"
            ],
            "image/png": "[encoded data removed]"
          },
          "metadata": {
            "needs_background": "light"
          }
        },
        {
          "output_type": "stream",
          "name": "stdout",
          "text": [
            "\n"
          ]
        },
        {
          "output_type": "display_data",
          "data": {
            "text/plain": [
              "<Figure size 1080x360 with 1 Axes>"
            ],
            "image/png": "[encoded data removed]"
          },
          "metadata": {
            "needs_background": "light"
          }
        },
        {
          "output_type": "stream",
          "name": "stdout",
          "text": [
            "\n"
          ]
        },
        {
          "output_type": "display_data",
          "data": {
            "text/plain": [
              "<Figure size 1080x360 with 1 Axes>"
            ],
            "image/png": "[encoded data removed]"
          },
          "metadata": {
            "needs_background": "light"
          }
        },
        {
          "output_type": "stream",
          "name": "stdout",
          "text": [
            "\n"
          ]
        },
        {
          "output_type": "display_data",
          "data": {
            "text/plain": [
              "<Figure size 1080x360 with 1 Axes>"
            ],
            "image/png": "[encoded data removed]"
          },
          "metadata": {
            "needs_background": "light"
          }
        },
        {
          "output_type": "stream",
          "name": "stdout",
          "text": [
            "\n"
          ]
        }
      ],
      "source": [
        "plt.figure(figsize=(15,5));\n",
        "plt.plot(naturalgas_returns);\n",
        "plt.title('naturlgas returns');\n",
        "plt.show();\n",
        "plt.close();\n",
        "print()\n",
        "plt.figure(figsize=(15,5));\n",
        "Xo = np.array([i for i in range(1,72)]);\n",
        "plt.scatter(Xo, naturalgas_returns);\n",
        "plt.title('naturlgas returns');\n",
        "plt.show();\n",
        "plt.close();\n",
        "print()\n",
        "\n",
        "plt.figure(figsize=(15,5));\n",
        "plt.plot(gold_returns);\n",
        "plt.title('gold returns');\n",
        "plt.show();\n",
        "plt.close();\n",
        "print()\n",
        "plt.figure(figsize=(15,5));\n",
        "Xo = np.array([i for i in range(1,72)]);\n",
        "plt.scatter(Xo, gold_returns);\n",
        "plt.title('gold returns');\n",
        "plt.show();\n",
        "plt.close();\n",
        "print()\n",
        "\n",
        "plt.figure(figsize=(15,5));\n",
        "plt.plot(crudeoil_returns);\n",
        "plt.title('crudeoil returns');\n",
        "plt.show()\n",
        "plt.close();\n",
        "print()\n",
        "plt.figure(figsize=(15,5));\n",
        "Xo = np.array([i for i in range(1,72)]);\n",
        "plt.scatter(Xo, crudeoil_returns);\n",
        "plt.title('crudeoil returns');\n",
        "plt.show();\n",
        "plt.close();\n",
        "print()\n",
        "\n",
        "plt.figure(figsize=(15,5));\n",
        "plt.plot(nifty_returns);\n",
        "plt.title('nifty 50 returns')\n",
        "plt.show();\n",
        "plt.close();\n",
        "print()\n",
        "plt.figure(figsize=(15,5));\n",
        "Xo = np.array([i for i in range(1,72)]);\n",
        "plt.scatter(Xo, nifty_returns);\n",
        "plt.title('nifty returns');\n",
        "plt.show();\n",
        "plt.close();\n",
        "print()"
      ]
    },
    {
      "cell_type": "code",
      "execution_count": 26,
      "metadata": {
        "colab": {
          "base_uri": "https://localhost:8080/",
          "height": 53
        },
        "id": "grQ2eW_vdOyn",
        "outputId": "13839c9f-de84-441e-8913-3543eec01c8d"
      },
      "outputs": [
        {
          "output_type": "execute_result",
          "data": {
            "text/plain": [
              "\"\\n!pip install arch\\nimport arch\\n# a standard GARCH(1,1) model\\ngarch = arch.arch_model(naturalgas_returns, vol='garch', p=1, o=0, q=1)\\ngarch_fitted = garch.fit()\\n\\n# one-step out-of sample forecasttf\\n\\ngarch_forecast = garch_fitted.forecast(horizon=1)\\npredicted_et = garch_forecast.mean['h.1'].iloc[-1]\\n\""
            ],
            "application/vnd.google.colaboratory.intrinsic+json": {
              "type": "string"
            }
          },
          "metadata": {},
          "execution_count": 26
        }
      ],
      "source": [
        "\"\"\"\n",
        "!pip install arch\n",
        "import arch\n",
        "# a standard GARCH(1,1) model\n",
        "garch = arch.arch_model(naturalgas_returns, vol='garch', p=1, o=0, q=1)\n",
        "garch_fitted = garch.fit()\n",
        "\n",
        "# one-step out-of sample forecasttf\n",
        "\n",
        "garch_forecast = garch_fitted.forecast(horizon=1)\n",
        "predicted_et = garch_forecast.mean['h.1'].iloc[-1]\n",
        "\"\"\" "
      ]
    },
    {
      "cell_type": "markdown",
      "metadata": {
        "id": "GVW_SccQLvC_"
      },
      "source": [
        "We have already tested for the stationarity of the data usung the Augmented Dicky Fuller Test which conclusively proved that all the return series are stationarity."
      ]
    },
    {
      "cell_type": "markdown",
      "metadata": {
        "id": "DwFHil2YL7TA"
      },
      "source": [
        "Now we will test the normality and hence do the White test to determine the presence of hetereoskedasticity in the data."
      ]
    },
    {
      "cell_type": "code",
      "execution_count": 27,
      "metadata": {
        "id": "RB4p1qzeL6U6"
      },
      "outputs": [],
      "source": [
        " #To do the White Test, we need to do regression of some sort on the data, now the data is self dependent.  "
      ]
    },
    {
      "cell_type": "code",
      "source": [
        "print(naturalgas_returns)\n",
        "print(type(naturalgas_returns))"
      ],
      "metadata": {
        "colab": {
          "base_uri": "https://localhost:8080/"
        },
        "id": "NQhRVk4XhRpK",
        "outputId": "f15563fa-21eb-4900-9ca5-4574e8a0117a"
      },
      "execution_count": 28,
      "outputs": [
        {
          "output_type": "stream",
          "name": "stdout",
          "text": [
            "[-0.2776830528604142, 0.09523320047323736, 0.10165852161039247, 0.07500167163230026, 0.24130029610932308, -0.022553493116886293, 0.007745972114655329, -0.002059732963010616, 0.05075191075247101, 0.11772859462961217, 0.09309042306601203, -0.169076330043934, -0.1399969323891646, 0.10654899832162437, 0.030153038170687457, -0.06576510995956453, -0.024466052154406268, -0.07386984856645552, 0.07901654031822433, 0.018311803642337688, -0.05490762807660981, 0.048333647384511805, -0.038267337217706, 0.0042083176257871405, -0.07973654282324308, 0.019702297881183186, 0.024230260296890987, 0.08196602640833149, 0.006495151487655972, -0.04065600564112885, 0.07058220257505207, 0.052259478037591595, 0.10278840327157093, 0.27287934203164876, -0.402633581912426, -0.05173984479314504, -0.008973140964968181, -0.06731318987409254, -0.03211160258960063, -0.04815430442419222, -0.07094320096381349, -0.034223872387577486, 0.06248128074358922, 0.004230891775112437, 0.12032637415339202, -0.11191791620398545, -0.07254496903131241, -0.16081808811638088, -0.06312964498624249, 0.055548107533844794, 0.09295511880033835, -0.059281903693750526, -0.04131267166454547, 0.03910272601374261, 0.3409921371000781, -0.022270273522503107, 0.2837870974114436, -0.1337044279530005, -0.17395792180875114, 0.050331821887138486, 0.0725028054130431, -0.07459376278751642, 0.1316982115428617, 0.017281012127177788, 0.204761015301099, 0.063343832763154, 0.09311341130752754, 0.2979962754685451, -0.04727545371379053, -0.1643903760959426, -0.2271139589844697]\n",
            "<class 'list'>\n"
          ]
        }
      ]
    },
    {
      "cell_type": "code",
      "source": [
        "## Changing all LISTs to Dataframes\n",
        "\n",
        "_ng = pd.DataFrame(naturalgas_returns)\n",
        "_co = pd.DataFrame(crudeoil_returns)\n",
        "_go = pd.DataFrame(gold_returns)\n",
        "_ns = pd.DataFrame(nifty_returns)"
      ],
      "metadata": {
        "id": "1BM7y84omktz"
      },
      "execution_count": 29,
      "outputs": []
    },
    {
      "cell_type": "code",
      "source": [
        ""
      ],
      "metadata": {
        "colab": {
          "base_uri": "https://localhost:8080/"
        },
        "id": "nAO4DRJgyMmq",
        "outputId": "69eb7e47-0cc5-4d34-f2ea-0854aa3e2ecd"
      },
      "execution_count": 35,
      "outputs": [
        {
          "output_type": "stream",
          "name": "stdout",
          "text": [
            "           0\n",
            "0  -0.277683\n",
            "1   0.095233\n",
            "2   0.101659\n",
            "3   0.075002\n",
            "4   0.241300\n",
            "..       ...\n",
            "66  0.093113\n",
            "67  0.297996\n",
            "68 -0.047275\n",
            "69 -0.164390\n",
            "70 -0.227114\n",
            "\n",
            "[71 rows x 1 columns]\n",
            "           0\n",
            "0   0.102492\n",
            "1  -0.033209\n",
            "2   0.058403\n",
            "3  -0.055675\n",
            "4   0.086036\n",
            "..       ...\n",
            "66 -0.015290\n",
            "67 -0.017059\n",
            "68  0.027929\n",
            "69 -0.000609\n",
            "70  0.010303\n",
            "\n",
            "[71 rows x 1 columns]\n"
          ]
        }
      ]
    },
    {
      "cell_type": "code",
      "source": [
        "#Mean, SD, Min, Max\n",
        "print(_ng.describe()), print(_co.describe()), print(_go.describe()), print(_ns.describe())"
      ],
      "metadata": {
        "colab": {
          "base_uri": "https://localhost:8080/"
        },
        "id": "kHk3RHUZnCps",
        "outputId": "de9a1669-8c3a-4639-8c15-9d8984a8c788"
      },
      "execution_count": 38,
      "outputs": [
        {
          "output_type": "stream",
          "name": "stdout",
          "text": [
            "               0\n",
            "count  71.000000\n",
            "mean    0.008070\n",
            "std     0.127521\n",
            "min    -0.402634\n",
            "25%    -0.061206\n",
            "50%     0.006495\n",
            "75%     0.077009\n",
            "max     0.340992\n",
            "               0\n",
            "count  71.000000\n",
            "mean    0.012682\n",
            "std     0.153236\n",
            "min    -0.663853\n",
            "25%    -0.040347\n",
            "50%     0.032430\n",
            "75%     0.078473\n",
            "max     0.667732\n",
            "               0\n",
            "count  71.000000\n",
            "mean    0.008323\n",
            "std     0.039344\n",
            "min    -0.070892\n",
            "25%    -0.019160\n",
            "50%     0.005836\n",
            "75%     0.037823\n",
            "max     0.113250\n",
            "               0\n",
            "count  71.000000\n",
            "mean    0.011697\n",
            "std     0.054155\n",
            "min    -0.264569\n",
            "25%    -0.010938\n",
            "50%     0.014104\n",
            "75%     0.040783\n",
            "max     0.136975\n"
          ]
        },
        {
          "output_type": "execute_result",
          "data": {
            "text/plain": [
              "(None, None, None, None)"
            ]
          },
          "metadata": {},
          "execution_count": 38
        }
      ]
    },
    {
      "cell_type": "code",
      "source": [
        "#MEDIAN\n",
        "print(_ng.median()), print(_co.median()), print(_go.median()), print(_ns.median())"
      ],
      "metadata": {
        "colab": {
          "base_uri": "https://localhost:8080/"
        },
        "id": "sXf6ra2Xy8Gj",
        "outputId": "83ff26f3-5d3a-45da-8801-90c64f0b0d69"
      },
      "execution_count": 40,
      "outputs": [
        {
          "output_type": "stream",
          "name": "stdout",
          "text": [
            "0    0.006495\n",
            "dtype: float64\n",
            "0    0.03243\n",
            "dtype: float64\n",
            "0    0.005836\n",
            "dtype: float64\n",
            "0    0.014104\n",
            "dtype: float64\n"
          ]
        },
        {
          "output_type": "execute_result",
          "data": {
            "text/plain": [
              "(None, None, None, None)"
            ]
          },
          "metadata": {},
          "execution_count": 40
        }
      ]
    },
    {
      "cell_type": "code",
      "source": [
        "#KURTOSIS\n",
        "print(_ng.kurt()), print(_co.kurt()), print(_go.kurt()), print(_ns.kurt())"
      ],
      "metadata": {
        "colab": {
          "base_uri": "https://localhost:8080/"
        },
        "id": "Y0i9CNXLzOWj",
        "outputId": "97fa87be-4248-434f-8335-36eb2afed36f"
      },
      "execution_count": 45,
      "outputs": [
        {
          "output_type": "stream",
          "name": "stdout",
          "text": [
            "0    1.523676\n",
            "dtype: float64\n",
            "0    8.866731\n",
            "dtype: float64\n",
            "0    0.066185\n",
            "dtype: float64\n",
            "0    8.77018\n",
            "dtype: float64\n"
          ]
        },
        {
          "output_type": "execute_result",
          "data": {
            "text/plain": [
              "(None, None, None, None)"
            ]
          },
          "metadata": {},
          "execution_count": 45
        }
      ]
    },
    {
      "cell_type": "code",
      "source": [
        "#SKEWNESS\n",
        "print(_ng.skew()), print(_co.skew()), print(_go.skew()), print(_ns.skew())"
      ],
      "metadata": {
        "colab": {
          "base_uri": "https://localhost:8080/"
        },
        "id": "jC5WuclV0Fcc",
        "outputId": "49dc549a-cefd-4234-cba8-e65962be2ab7"
      },
      "execution_count": 46,
      "outputs": [
        {
          "output_type": "stream",
          "name": "stdout",
          "text": [
            "0   -0.052888\n",
            "dtype: float64\n",
            "0   -0.356008\n",
            "dtype: float64\n",
            "0    0.400567\n",
            "dtype: float64\n",
            "0   -1.713817\n",
            "dtype: float64\n"
          ]
        },
        {
          "output_type": "execute_result",
          "data": {
            "text/plain": [
              "(None, None, None, None)"
            ]
          },
          "metadata": {},
          "execution_count": 46
        }
      ]
    },
    {
      "cell_type": "code",
      "source": [
        "import scipy.stats as stats"
      ],
      "metadata": {
        "id": "omo883190U3d"
      },
      "execution_count": 48,
      "outputs": []
    },
    {
      "cell_type": "code",
      "source": [
        "print(stats.jarque_bera(_ng)) #NORMALLY DISTRIBUTED\n",
        "print(stats.jarque_bera(_co))\n",
        "print(stats.jarque_bera(_go)) #NORMALLY DISTRIBUTED\n",
        "print(stats.jarque_bera(_ns))"
      ],
      "metadata": {
        "colab": {
          "base_uri": "https://localhost:8080/"
        },
        "id": "8tonUGPD03Y8",
        "outputId": "f58e8a54-044c-4865-d175-545a714dc5b3"
      },
      "execution_count": 49,
      "outputs": [
        {
          "output_type": "stream",
          "name": "stdout",
          "text": [
            "(5.305201414328945, 0.07046770866846841)\n",
            "(198.95879844156, 0.0)\n",
            "(1.8202579527425264, 0.40247231126770655)\n",
            "(226.49532587874245, 0.0)\n"
          ]
        }
      ]
    },
    {
      "cell_type": "code",
      "source": [
        "_ng.info()"
      ],
      "metadata": {
        "colab": {
          "base_uri": "https://localhost:8080/"
        },
        "id": "A7yC_wqfnMLu",
        "outputId": "814ebe1b-9595-4604-d688-b43ec6a0b791"
      },
      "execution_count": 31,
      "outputs": [
        {
          "output_type": "stream",
          "name": "stdout",
          "text": [
            "<class 'pandas.core.frame.DataFrame'>\n",
            "RangeIndex: 71 entries, 0 to 70\n",
            "Data columns (total 1 columns):\n",
            " #   Column  Non-Null Count  Dtype  \n",
            "---  ------  --------------  -----  \n",
            " 0   0       71 non-null     float64\n",
            "dtypes: float64(1)\n",
            "memory usage: 696.0 bytes\n"
          ]
        }
      ]
    },
    {
      "cell_type": "markdown",
      "source": [
        "Besides the value of the coorelation coefficient we need how strong the relationship is actually true, so we need the r value and the the alpha level of that correlation  \n"
      ],
      "metadata": {
        "id": "T0hMfdGX12p1"
      }
    },
    {
      "cell_type": "code",
      "source": [
        "result = pd.concat([_ng, _co, _go, _ns], axis=1).corr()\n",
        "print(result)"
      ],
      "metadata": {
        "colab": {
          "base_uri": "https://localhost:8080/"
        },
        "id": "l8i6FcKZooTO",
        "outputId": "80a9e866-f77c-4904-e9f6-fb8cfd3266cf"
      },
      "execution_count": 52,
      "outputs": [
        {
          "output_type": "stream",
          "name": "stdout",
          "text": [
            "          0         0         0         0\n",
            "0  1.000000 -0.055455 -0.233876  0.069922\n",
            "0 -0.055455  1.000000 -0.060050  0.308368\n",
            "0 -0.233876 -0.060050  1.000000 -0.195063\n",
            "0  0.069922  0.308368 -0.195063  1.000000\n"
          ]
        }
      ]
    },
    {
      "cell_type": "code",
      "source": [
        "ngS = pd.Series(naturalgas_returns)\n",
        "coS = pd.Series(crudeoil_returns)\n",
        "goS = pd.Series(gold_returns)\n",
        "nsS = pd.Series(nifty_returns)\n",
        "\n",
        "frame = {'ng':ngS, 'co':coS, 'go':goS, 'ns':nsS}\n",
        "df = pd.DataFrame(frame)"
      ],
      "metadata": {
        "id": "LpMiXPz43rkA"
      },
      "execution_count": 61,
      "outputs": []
    },
    {
      "cell_type": "code",
      "source": [
        "print(df)"
      ],
      "metadata": {
        "colab": {
          "base_uri": "https://localhost:8080/"
        },
        "id": "9x4sq7tx4qo4",
        "outputId": "9d0e21fb-50a6-4687-833f-4be36ccb23cd"
      },
      "execution_count": 62,
      "outputs": [
        {
          "output_type": "stream",
          "name": "stdout",
          "text": [
            "          ng        co        go        ns\n",
            "0  -0.277683  0.015195  0.102492 -0.079282\n",
            "1   0.095233  0.102686 -0.033209  0.102137\n",
            "2   0.101659  0.165528  0.058403  0.014293\n",
            "3   0.075002  0.093661 -0.055675  0.038768\n",
            "4   0.241300 -0.008739  0.086036  0.015522\n",
            "..       ...       ...       ...       ...\n",
            "66  0.093113 -0.093210 -0.015290  0.083291\n",
            "67  0.297996  0.102950 -0.017059  0.027970\n",
            "68 -0.047275  0.117244  0.027929  0.003032\n",
            "69 -0.164390 -0.246400 -0.000609 -0.039737\n",
            "70 -0.227114  0.138802  0.010303  0.021601\n",
            "\n",
            "[71 rows x 4 columns]\n"
          ]
        }
      ]
    },
    {
      "cell_type": "code",
      "source": [
        "#Correlation at Different significance level\n",
        "from scipy.stats import pearsonr\n",
        "import numpy as np\n",
        "rho = df.corr()\n",
        "pval = df.corr(method=lambda x, y: pearsonr(x, y)[1]) - np.eye(*rho.shape)\n",
        "p = pval.applymap(lambda x: ''.join(['*' for t in [0.01,0.05,0.1] if x<=t]))\n",
        "rho.round(2).astype(str) + p"
      ],
      "metadata": {
        "colab": {
          "base_uri": "https://localhost:8080/",
          "height": 175
        },
        "id": "J_NLpofk4198",
        "outputId": "e8992571-50a9-498e-a83c-8572fb564235"
      },
      "execution_count": 64,
      "outputs": [
        {
          "output_type": "execute_result",
          "data": {
            "text/plain": [
              "         ng       co       go       ns\n",
              "ng   1.0***    -0.06  -0.23**     0.07\n",
              "co    -0.06   1.0***    -0.06  0.31***\n",
              "go  -0.23**    -0.06   1.0***     -0.2\n",
              "ns     0.07  0.31***     -0.2   1.0***"
            ],
            "text/html": [
              "\n",
              "  <div id=\"df-7196521d-e2fc-461d-b123-b19864417416\">\n",
              "    <div class=\"colab-df-container\">\n",
              "      <div>\n",
              "<style scoped>\n",
              "    .dataframe tbody tr th:only-of-type {\n",
              "        vertical-align: middle;\n",
              "    }\n",
              "\n",
              "    .dataframe tbody tr th {\n",
              "        vertical-align: top;\n",
              "    }\n",
              "\n",
              "    .dataframe thead th {\n",
              "        text-align: right;\n",
              "    }\n",
              "</style>\n",
              "<table border=\"1\" class=\"dataframe\">\n",
              "  <thead>\n",
              "    <tr style=\"text-align: right;\">\n",
              "      <th></th>\n",
              "      <th>ng</th>\n",
              "      <th>co</th>\n",
              "      <th>go</th>\n",
              "      <th>ns</th>\n",
              "    </tr>\n",
              "  </thead>\n",
              "  <tbody>\n",
              "    <tr>\n",
              "      <th>ng</th>\n",
              "      <td>1.0***</td>\n",
              "      <td>-0.06</td>\n",
              "      <td>-0.23**</td>\n",
              "      <td>0.07</td>\n",
              "    </tr>\n",
              "    <tr>\n",
              "      <th>co</th>\n",
              "      <td>-0.06</td>\n",
              "      <td>1.0***</td>\n",
              "      <td>-0.06</td>\n",
              "      <td>0.31***</td>\n",
              "    </tr>\n",
              "    <tr>\n",
              "      <th>go</th>\n",
              "      <td>-0.23**</td>\n",
              "      <td>-0.06</td>\n",
              "      <td>1.0***</td>\n",
              "      <td>-0.2</td>\n",
              "    </tr>\n",
              "    <tr>\n",
              "      <th>ns</th>\n",
              "      <td>0.07</td>\n",
              "      <td>0.31***</td>\n",
              "      <td>-0.2</td>\n",
              "      <td>1.0***</td>\n",
              "    </tr>\n",
              "  </tbody>\n",
              "</table>\n",
              "</div>\n",
              "      <button class=\"colab-df-convert\" onclick=\"convertToInteractive('df-7196521d-e2fc-461d-b123-b19864417416')\"\n",
              "              title=\"Convert this dataframe to an interactive table.\"\n",
              "              style=\"display:none;\">\n",
              "        \n",
              "  <svg xmlns=\"http://www.w3.org/2000/svg\" height=\"24px\"viewBox=\"0 0 24 24\"\n",
              "       width=\"24px\">\n",
              "    <path d=\"M0 0h24v24H0V0z\" fill=\"none\"/>\n",
              "    <path d=\"M18.56 5.44l.94 2.06.94-2.06 2.06-.94-2.06-.94-.94-2.06-.94 2.06-2.06.94zm-11 1L8.5 8.5l.94-2.06 2.06-.94-2.06-.94L8.5 2.5l-.94 2.06-2.06.94zm10 10l.94 2.06.94-2.06 2.06-.94-2.06-.94-.94-2.06-.94 2.06-2.06.94z\"/><path d=\"M17.41 7.96l-1.37-1.37c-.4-.4-.92-.59-1.43-.59-.52 0-1.04.2-1.43.59L10.3 9.45l-7.72 7.72c-.78.78-.78 2.05 0 2.83L4 21.41c.39.39.9.59 1.41.59.51 0 1.02-.2 1.41-.59l7.78-7.78 2.81-2.81c.8-.78.8-2.07 0-2.86zM5.41 20L4 18.59l7.72-7.72 1.47 1.35L5.41 20z\"/>\n",
              "  </svg>\n",
              "      </button>\n",
              "      \n",
              "  <style>\n",
              "    .colab-df-container {\n",
              "      display:flex;\n",
              "      flex-wrap:wrap;\n",
              "      gap: 12px;\n",
              "    }\n",
              "\n",
              "    .colab-df-convert {\n",
              "      background-color: #E8F0FE;\n",
              "      border: none;\n",
              "      border-radius: 50%;\n",
              "      cursor: pointer;\n",
              "      display: none;\n",
              "      fill: #1967D2;\n",
              "      height: 32px;\n",
              "      padding: 0 0 0 0;\n",
              "      width: 32px;\n",
              "    }\n",
              "\n",
              "    .colab-df-convert:hover {\n",
              "      background-color: #E2EBFA;\n",
              "      box-shadow: 0px 1px 2px rgba(60, 64, 67, 0.3), 0px 1px 3px 1px rgba(60, 64, 67, 0.15);\n",
              "      fill: #174EA6;\n",
              "    }\n",
              "\n",
              "    [theme=dark] .colab-df-convert {\n",
              "      background-color: #3B4455;\n",
              "      fill: #D2E3FC;\n",
              "    }\n",
              "\n",
              "    [theme=dark] .colab-df-convert:hover {\n",
              "      background-color: #434B5C;\n",
              "      box-shadow: 0px 1px 3px 1px rgba(0, 0, 0, 0.15);\n",
              "      filter: drop-shadow(0px 1px 2px rgba(0, 0, 0, 0.3));\n",
              "      fill: #FFFFFF;\n",
              "    }\n",
              "  </style>\n",
              "\n",
              "      <script>\n",
              "        const buttonEl =\n",
              "          document.querySelector('#df-7196521d-e2fc-461d-b123-b19864417416 button.colab-df-convert');\n",
              "        buttonEl.style.display =\n",
              "          google.colab.kernel.accessAllowed ? 'block' : 'none';\n",
              "\n",
              "        async function convertToInteractive(key) {\n",
              "          const element = document.querySelector('#df-7196521d-e2fc-461d-b123-b19864417416');\n",
              "          const dataTable =\n",
              "            await google.colab.kernel.invokeFunction('convertToInteractive',\n",
              "                                                     [key], {});\n",
              "          if (!dataTable) return;\n",
              "\n",
              "          const docLinkHtml = 'Like what you see? Visit the ' +\n",
              "            '<a target=\"_blank\" href=https://colab.research.google.com/notebooks/data_table.ipynb>data table notebook</a>'\n",
              "            + ' to learn more about interactive tables.';\n",
              "          element.innerHTML = '';\n",
              "          dataTable['output_type'] = 'display_data';\n",
              "          await google.colab.output.renderOutput(dataTable, element);\n",
              "          const docLink = document.createElement('div');\n",
              "          docLink.innerHTML = docLinkHtml;\n",
              "          element.appendChild(docLink);\n",
              "        }\n",
              "      </script>\n",
              "    </div>\n",
              "  </div>\n",
              "  "
            ]
          },
          "metadata": {},
          "execution_count": 64
        }
      ]
    },
    {
      "cell_type": "code",
      "source": [
        "import numpy as np\n",
        "import pandas as pd\n",
        "import statsmodels.regression.linear_model as rg\n",
        "import statsmodels.tools.tools as ct\n",
        "import statsmodels.stats.diagnostic as dg\n",
        "import statsmodels.formula.api as smf\n",
        "from statsmodels.compat import lzip\n",
        "import statsmodels.stats.api as sms"
      ],
      "metadata": {
        "id": "YFJPpdabo4bA"
      },
      "execution_count": 71,
      "outputs": []
    },
    {
      "cell_type": "code",
      "source": [
        "print(df)"
      ],
      "metadata": {
        "colab": {
          "base_uri": "https://localhost:8080/"
        },
        "id": "eCUPQ7nd8t6q",
        "outputId": "df4bdf05-4ae1-4277-bc09-0efbddabbf32"
      },
      "execution_count": 72,
      "outputs": [
        {
          "output_type": "stream",
          "name": "stdout",
          "text": [
            "          ng        co        go        ns\n",
            "0  -0.277683  0.015195  0.102492 -0.079282\n",
            "1   0.095233  0.102686 -0.033209  0.102137\n",
            "2   0.101659  0.165528  0.058403  0.014293\n",
            "3   0.075002  0.093661 -0.055675  0.038768\n",
            "4   0.241300 -0.008739  0.086036  0.015522\n",
            "..       ...       ...       ...       ...\n",
            "66  0.093113 -0.093210 -0.015290  0.083291\n",
            "67  0.297996  0.102950 -0.017059  0.027970\n",
            "68 -0.047275  0.117244  0.027929  0.003032\n",
            "69 -0.164390 -0.246400 -0.000609 -0.039737\n",
            "70 -0.227114  0.138802  0.010303  0.021601\n",
            "\n",
            "[71 rows x 4 columns]\n"
          ]
        }
      ]
    },
    {
      "cell_type": "code",
      "source": [
        "#NSE\n",
        "fit = smf.ols('ns ~ ng+co+go', data=df).fit()\n",
        "print(fit.summary())\n",
        "names = ['Lagrange multiplier statistic', 'p-value',\n",
        "        'f-value', 'f p-value']\n",
        "test = sms.het_breuschpagan(fit.resid, fit.model.exog)\n",
        "print()\n",
        "lzip(names, test)"
      ],
      "metadata": {
        "id": "2t1SnYGBO8cE",
        "colab": {
          "base_uri": "https://localhost:8080/"
        },
        "outputId": "9995eb77-b48d-464b-bc76-48922df51563"
      },
      "execution_count": 75,
      "outputs": [
        {
          "output_type": "stream",
          "name": "stdout",
          "text": [
            "                            OLS Regression Results                            \n",
            "==============================================================================\n",
            "Dep. Variable:                     ns   R-squared:                       0.129\n",
            "Model:                            OLS   Adj. R-squared:                  0.090\n",
            "Method:                 Least Squares   F-statistic:                     3.294\n",
            "Date:                Sun, 10 Apr 2022   Prob (F-statistic):             0.0257\n",
            "Time:                        10:12:29   Log-Likelihood:                 111.67\n",
            "No. Observations:                  71   AIC:                            -215.3\n",
            "Df Residuals:                      67   BIC:                            -206.3\n",
            "Df Model:                           3                                         \n",
            "Covariance Type:            nonrobust                                         \n",
            "==============================================================================\n",
            "                 coef    std err          t      P>|t|      [0.025      0.975]\n",
            "------------------------------------------------------------------------------\n",
            "Intercept      0.0121      0.006      1.905      0.061      -0.001       0.025\n",
            "ng             0.0203      0.050      0.407      0.685      -0.079       0.120\n",
            "co             0.1064      0.040      2.628      0.011       0.026       0.187\n",
            "go            -0.2282      0.162     -1.409      0.163      -0.551       0.095\n",
            "==============================================================================\n",
            "Omnibus:                       12.539   Durbin-Watson:                   2.446\n",
            "Prob(Omnibus):                  0.002   Jarque-Bera (JB):               26.418\n",
            "Skew:                          -0.486   Prob(JB):                     1.83e-06\n",
            "Kurtosis:                       5.826   Cond. No.                         26.5\n",
            "==============================================================================\n",
            "\n",
            "Warnings:\n",
            "[1] Standard Errors assume that the covariance matrix of the errors is correctly specified.\n",
            "\n"
          ]
        },
        {
          "output_type": "execute_result",
          "data": {
            "text/plain": [
              "[('Lagrange multiplier statistic', 14.457356608434191),\n",
              " ('p-value', 0.0023443148909281005),\n",
              " ('f-value', 5.710397407829591),\n",
              " ('f p-value', 0.0015292430864201482)]"
            ]
          },
          "metadata": {},
          "execution_count": 75
        }
      ]
    },
    {
      "cell_type": "code",
      "source": [
        "#GOLD\n",
        "fit = smf.ols('go ~ ns+co+go', data=df).fit()\n",
        "print(fit.summary())\n",
        "names = ['Lagrange multiplier statistic', 'p-value',\n",
        "        'f-value', 'f p-value']\n",
        "test = sms.het_breuschpagan(fit.resid, fit.model.exog)\n",
        "print()\n",
        "lzip(names, test)"
      ],
      "metadata": {
        "colab": {
          "base_uri": "https://localhost:8080/"
        },
        "id": "CqkJ4JRh9Ohl",
        "outputId": "27d77f89-50a9-4f4e-9535-e0586591ae3f"
      },
      "execution_count": 76,
      "outputs": [
        {
          "output_type": "stream",
          "name": "stdout",
          "text": [
            "                            OLS Regression Results                            \n",
            "==============================================================================\n",
            "Dep. Variable:                     go   R-squared:                       1.000\n",
            "Model:                            OLS   Adj. R-squared:                  1.000\n",
            "Method:                 Least Squares   F-statistic:                 2.918e+31\n",
            "Date:                Sun, 10 Apr 2022   Prob (F-statistic):               0.00\n",
            "Time:                        10:12:41   Log-Likelihood:                 2591.2\n",
            "No. Observations:                  71   AIC:                            -5174.\n",
            "Df Residuals:                      67   BIC:                            -5165.\n",
            "Df Model:                           3                                         \n",
            "Covariance Type:            nonrobust                                         \n",
            "==============================================================================\n",
            "                 coef    std err          t      P>|t|      [0.025      0.975]\n",
            "------------------------------------------------------------------------------\n",
            "Intercept  -6.722e-18   4.41e-18     -1.524      0.132   -1.55e-17    2.08e-18\n",
            "ns          4.437e-16   8.31e-17      5.341      0.000    2.78e-16    6.09e-16\n",
            "co          1.119e-16   2.88e-17      3.879      0.000    5.43e-17    1.69e-16\n",
            "go             1.0000   1.09e-16   9.18e+15      0.000       1.000       1.000\n",
            "==============================================================================\n",
            "Omnibus:                       64.931   Durbin-Watson:                   1.681\n",
            "Prob(Omnibus):                  0.000   Jarque-Bera (JB):              592.782\n",
            "Skew:                           2.486   Prob(JB):                    1.90e-129\n",
            "Kurtosis:                      16.254   Cond. No.                         26.7\n",
            "==============================================================================\n",
            "\n",
            "Warnings:\n",
            "[1] Standard Errors assume that the covariance matrix of the errors is correctly specified.\n",
            "\n"
          ]
        },
        {
          "output_type": "execute_result",
          "data": {
            "text/plain": [
              "[('Lagrange multiplier statistic', 30.16232872077599),\n",
              " ('p-value', 1.275699919207568e-06),\n",
              " ('f-value', 16.495194763305907),\n",
              " ('f p-value', 3.9406710900481e-08)]"
            ]
          },
          "metadata": {},
          "execution_count": 76
        }
      ]
    },
    {
      "cell_type": "code",
      "source": [
        "#Crude Oil\n",
        "fit = smf.ols('co ~ ng+ns+go', data=df).fit()\n",
        "print(fit.summary())\n",
        "names = ['Lagrange multiplier statistic', 'p-value',\n",
        "        'f-value', 'f p-value']\n",
        "test = sms.het_breuschpagan(fit.resid, fit.model.exog)\n",
        "print()\n",
        "lzip(names, test)"
      ],
      "metadata": {
        "colab": {
          "base_uri": "https://localhost:8080/"
        },
        "id": "NadQVzOD9mF2",
        "outputId": "3840a7ac-f97f-416f-b4c4-05bff4b3b2fa"
      },
      "execution_count": 77,
      "outputs": [
        {
          "output_type": "stream",
          "name": "stdout",
          "text": [
            "                            OLS Regression Results                            \n",
            "==============================================================================\n",
            "Dep. Variable:                     co   R-squared:                       0.101\n",
            "Model:                            OLS   Adj. R-squared:                  0.061\n",
            "Method:                 Least Squares   F-statistic:                     2.519\n",
            "Date:                Sun, 10 Apr 2022   Prob (F-statistic):             0.0654\n",
            "Time:                        10:13:07   Log-Likelihood:                 36.733\n",
            "No. Observations:                  71   AIC:                            -65.47\n",
            "Df Residuals:                      67   BIC:                            -56.42\n",
            "Df Model:                           3                                         \n",
            "Covariance Type:            nonrobust                                         \n",
            "==============================================================================\n",
            "                 coef    std err          t      P>|t|      [0.025      0.975]\n",
            "------------------------------------------------------------------------------\n",
            "Intercept      0.0038      0.019      0.203      0.840      -0.034       0.041\n",
            "ng            -0.0979      0.143     -0.684      0.496      -0.384       0.188\n",
            "ns             0.8784      0.334      2.628      0.011       0.211       1.546\n",
            "go            -0.0723      0.472     -0.153      0.879      -1.014       0.870\n",
            "==============================================================================\n",
            "Omnibus:                       24.959   Durbin-Watson:                   2.072\n",
            "Prob(Omnibus):                  0.000   Jarque-Bera (JB):              137.593\n",
            "Skew:                           0.687   Prob(JB):                     1.32e-30\n",
            "Kurtosis:                       9.680   Cond. No.                         27.3\n",
            "==============================================================================\n",
            "\n",
            "Warnings:\n",
            "[1] Standard Errors assume that the covariance matrix of the errors is correctly specified.\n",
            "\n"
          ]
        },
        {
          "output_type": "execute_result",
          "data": {
            "text/plain": [
              "[('Lagrange multiplier statistic', 3.597821305986322),\n",
              " ('p-value', 0.30829487984107407),\n",
              " ('f-value', 1.1921178819030904),\n",
              " ('f p-value', 0.3194806580604065)]"
            ]
          },
          "metadata": {},
          "execution_count": 77
        }
      ]
    },
    {
      "cell_type": "code",
      "source": [
        "#Natural Gas\n",
        "fit = smf.ols('ng ~ ns+co+go', data=df).fit()\n",
        "print(fit.summary())\n",
        "names = ['Lagrange multiplier statistic', 'p-value',\n",
        "        'f-value', 'f p-value']\n",
        "test = sms.het_breuschpagan(fit.resid, fit.model.exog)\n",
        "print()\n",
        "lzip(names, test)"
      ],
      "metadata": {
        "colab": {
          "base_uri": "https://localhost:8080/"
        },
        "id": "L2bQIjo49rYK",
        "outputId": "78b24f98-39f8-42cc-8906-b2d713d7fad5"
      },
      "execution_count": 78,
      "outputs": [
        {
          "output_type": "stream",
          "name": "stdout",
          "text": [
            "                            OLS Regression Results                            \n",
            "==============================================================================\n",
            "Dep. Variable:                     ng   R-squared:                       0.062\n",
            "Model:                            OLS   Adj. R-squared:                  0.020\n",
            "Method:                 Least Squares   F-statistic:                     1.473\n",
            "Date:                Sun, 10 Apr 2022   Prob (F-statistic):              0.230\n",
            "Time:                        10:13:37   Log-Likelihood:                 48.249\n",
            "No. Observations:                  71   AIC:                            -88.50\n",
            "Df Residuals:                      67   BIC:                            -79.45\n",
            "Df Model:                           3                                         \n",
            "Covariance Type:            nonrobust                                         \n",
            "==============================================================================\n",
            "                 coef    std err          t      P>|t|      [0.025      0.975]\n",
            "------------------------------------------------------------------------------\n",
            "Intercept      0.0137      0.016      0.867      0.389      -0.018       0.045\n",
            "ns             0.1213      0.298      0.407      0.685      -0.474       0.716\n",
            "co            -0.0708      0.104     -0.684      0.496      -0.277       0.136\n",
            "go            -0.7420      0.391     -1.898      0.062      -1.523       0.038\n",
            "==============================================================================\n",
            "Omnibus:                        3.160   Durbin-Watson:                   1.934\n",
            "Prob(Omnibus):                  0.206   Jarque-Bera (JB):                3.067\n",
            "Skew:                          -0.007   Prob(JB):                        0.216\n",
            "Kurtosis:                       4.018   Cond. No.                         26.7\n",
            "==============================================================================\n",
            "\n",
            "Warnings:\n",
            "[1] Standard Errors assume that the covariance matrix of the errors is correctly specified.\n",
            "\n"
          ]
        },
        {
          "output_type": "execute_result",
          "data": {
            "text/plain": [
              "[('Lagrange multiplier statistic', 2.7201132581427307),\n",
              " ('p-value', 0.43682007113951704),\n",
              " ('f-value', 0.8897085071068255),\n",
              " ('f p-value', 0.45109551440114404)]"
            ]
          },
          "metadata": {},
          "execution_count": 78
        }
      ]
    },
    {
      "cell_type": "code",
      "source": [
        "from sklearn.linear_model import LinearRegression\n",
        "from statsmodels.stats.diagnostic import het_white\n",
        "import statsmodels.api as sm\n",
        "import pandas as pd"
      ],
      "metadata": {
        "id": "5yZJn1Tv-UIz"
      },
      "execution_count": 79,
      "outputs": []
    },
    {
      "cell_type": "code",
      "source": [
        "#NS\n",
        "y = df['ns']\n",
        "x = df[['ng', 'co', 'go']]\n",
        "x = sm.add_constant(x)\n",
        "model = sm.OLS(y, x).fit()\n",
        "\n",
        "white_test = het_white(model.resid,  model.model.exog)\n",
        "labels = ['Test Statistic', 'Test Statistic p-value', 'F-Statistic', 'F-Test p-value']\n",
        "print(dict(zip(labels, white_test)))"
      ],
      "metadata": {
        "colab": {
          "base_uri": "https://localhost:8080/"
        },
        "id": "SSyWRY729w6I",
        "outputId": "38644c4a-2556-4c31-f12f-eef1c20b52e1"
      },
      "execution_count": 80,
      "outputs": [
        {
          "output_type": "stream",
          "name": "stdout",
          "text": [
            "{'Test Statistic': 54.641638096607174, 'Test Statistic p-value': 1.4252544942741457e-08, 'F-Statistic': 22.639729003412448, 'F-Test p-value': 2.564964709162692e-16}\n"
          ]
        },
        {
          "output_type": "stream",
          "name": "stderr",
          "text": [
            "/usr/local/lib/python3.7/dist-packages/statsmodels/tsa/tsatools.py:117: FutureWarning: In a future version of pandas all arguments of concat except for the argument 'objs' will be keyword-only\n",
            "  x = pd.concat(x[::order], 1)\n"
          ]
        }
      ]
    },
    {
      "cell_type": "code",
      "source": [
        "y = df['ng']\n",
        "x = df[['ns', 'co', 'go']]\n",
        "x = sm.add_constant(x)\n",
        "model = sm.OLS(y, x).fit()\n",
        "\n",
        "white_test = het_white(model.resid,  model.model.exog)\n",
        "labels = ['Test Statistic', 'Test Statistic p-value', 'F-Statistic', 'F-Test p-value']\n",
        "print(dict(zip(labels, white_test)))"
      ],
      "metadata": {
        "colab": {
          "base_uri": "https://localhost:8080/"
        },
        "id": "soPF0mVx-wOP",
        "outputId": "22dc9864-dd0b-49f7-bbd0-cb1044b04fd5"
      },
      "execution_count": 81,
      "outputs": [
        {
          "output_type": "stream",
          "name": "stdout",
          "text": [
            "{'Test Statistic': 11.993184088640282, 'Test Statistic p-value': 0.2136938264437951, 'F-Statistic': 1.3775889335037843, 'F-Test p-value': 0.2181412074561165}\n"
          ]
        },
        {
          "output_type": "stream",
          "name": "stderr",
          "text": [
            "/usr/local/lib/python3.7/dist-packages/statsmodels/tsa/tsatools.py:117: FutureWarning: In a future version of pandas all arguments of concat except for the argument 'objs' will be keyword-only\n",
            "  x = pd.concat(x[::order], 1)\n"
          ]
        }
      ]
    },
    {
      "cell_type": "code",
      "source": [
        "# check correlations of squared observations\n",
        "from random import gauss\n",
        "from random import seed\n",
        "from matplotlib import pyplot\n",
        "from statsmodels.graphics.tsaplots import plot_acf"
      ],
      "metadata": {
        "id": "VPtVFrjh-3kq"
      },
      "execution_count": 85,
      "outputs": []
    },
    {
      "cell_type": "code",
      "source": [
        "modelNG = _ng\n",
        "modelGO = _go\n",
        "modelCO = _co\n",
        "modelNS = _ns"
      ],
      "metadata": {
        "colab": {
          "base_uri": "https://localhost:8080/"
        },
        "id": "sJjsGH0hE0Em",
        "outputId": "f0280c24-fafa-4d38-bd78-745c1982fc4c"
      },
      "execution_count": 95,
      "outputs": [
        {
          "output_type": "stream",
          "name": "stdout",
          "text": [
            "<class 'pandas.core.frame.DataFrame'>\n"
          ]
        }
      ]
    },
    {
      "cell_type": "code",
      "source": [
        "modelGO = modelGO.iloc[::-1]\n",
        "modelNG = modelNG.iloc[::-1]\n",
        "modelNS = modelNS.iloc[::-1]\n",
        "modelCO = modelCO.iloc[::-1]"
      ],
      "metadata": {
        "id": "4PUMUQ3vQGf1"
      },
      "execution_count": 99,
      "outputs": []
    },
    {
      "cell_type": "code",
      "source": [
        "import numpy as np\n",
        "\n",
        "def Q_average(tr):\n",
        "    # return average of outer product of [eT,...e0]\n",
        "    # et = [r(1t)/s(1t),...r(nt)/s(nt)]\n",
        "    T = tr.shape[1]\n",
        "    n = tr.shape[0]\n",
        "    sum = np.zeros([n,n])\n",
        "    for i in range(T):\n",
        "        sum += np.outer(tr[:,i],tr[:,i])\n",
        "    return sum/T\n",
        "\n",
        "def Q_gen(tr,ab):\n",
        "    # generate [QT,...Q0]\n",
        "    Q_int = Q_average(tr)\n",
        "    Q_list = [Q_int]\n",
        "    T = tr.shape[1] - 1\n",
        "    a = ab[0]\n",
        "    b = ab[1]\n",
        "    for i in range(T):\n",
        "        et_1 = tr[:,T-i]\n",
        "        Qt_1 = Q_list[0]\n",
        "        Qt = (1.0-a-b)*Q_int + a*np.outer(et_1,et_1) + b*Qt_1\n",
        "        Q_list = [Qt] + Q_list\n",
        "    return Q_list\n",
        "\n",
        "def R_gen(tr,ab):\n",
        "    Q = Q_gen(tr,ab)\n",
        "    # output [RT,...R0]\n",
        "    R_list = []\n",
        "    n = Q[0].shape[0]\n",
        "    for i in Q:\n",
        "        temp = 1.0/np.sqrt(np.abs(i))\n",
        "        temp = temp * np.eye(n)\n",
        "        R = np.dot(np.dot(temp,i),temp)\n",
        "        R_list = R_list + [R]\n",
        "    return R_list\n",
        "\n",
        "def dcc_loss(tr, ab):\n",
        "    R = R_gen(tr,ab)\n",
        "\n",
        "    def dcc_loss_helper(tr=tr,R=R):\n",
        "        loss = 0.0\n",
        "        for i in range(len(R)):\n",
        "            Ri = R[i]\n",
        "            Ri_ = np.linalg.inv(Ri)\n",
        "            ei = tr[:,i]\n",
        "            loss += np.log(np.linalg.det(Ri)) + np.dot(np.dot(ei,Ri_),ei)\n",
        "        # print('training loss %f' % loss)\n",
        "        return loss\n",
        "\n",
        "    return dcc_loss_helper()\n",
        "\n",
        "\n",
        "def dcc_loss_gen():\n",
        "    def loss1(tr):\n",
        "        def loss(ab):\n",
        "            return dcc_loss(tr, ab)\n",
        "        return loss\n",
        "    return loss1"
      ],
      "metadata": {
        "id": "2b12ONkoS8z9"
      },
      "execution_count": 104,
      "outputs": []
    },
    {
      "cell_type": "code",
      "source": [
        "import numpy as np\n",
        "from scipy.optimize import minimize\n",
        "\n",
        "class DCC():\n",
        "\n",
        "    def __init__(self, max_itr=2, early_stopping=True):\n",
        "        self.max_itr = max_itr\n",
        "        self.early_stopping = early_stopping\n",
        "        self.ab = np.array([0.5, 0.5])\n",
        "        self.method =  'SLSQP'\n",
        "        def ub(x):\n",
        "            return 1. - x[0] - x[1]\n",
        "        def lb1(x):\n",
        "            return x[0]\n",
        "        def lb2(x):\n",
        "            return x[1]\n",
        "        self.constraints = [{'type':'ineq', 'fun':ub},{'type':'ineq', 'fun':lb1},{'type':'ineq', 'fun':lb2}]\n",
        "\n",
        "    def set_ab(self,ab): # ndarray\n",
        "        self.ab = ab\n",
        "\n",
        "    def get_ab(self):\n",
        "        return self.ab\n",
        "\n",
        "    def set_method(self,method):\n",
        "        self.method = method\n",
        "\n",
        "    def set_loss(self, loss_func):\n",
        "        #\"loss function L is a meta-function, s.t. L(r) = f(theta).\"\n",
        "        self.loss_func = loss_func\n",
        "\n",
        "    def get_loss_func(self):\n",
        "        if self.loss_func is None:\n",
        "            raise Exception(\"No Loss Function Found!\")\n",
        "        else:\n",
        "            return self.loss_func\n",
        "\n",
        "    def set_max_itr(self, max_itr):\n",
        "        self.max_itr = max_itr\n",
        "\n",
        "    def get_max_itr(self):\n",
        "        return self.max_itr\n",
        "\n",
        "    def fit(self, train_data):\n",
        "        #train_data: numpy.array([[e1_T,...e1_0],\\\n",
        "        #                         [e2_T,...e2_0],\\\n",
        "        #                         ...,\n",
        "        #                         [en_T,...en_0]])\n",
        "\n",
        "        tr = train_data\n",
        "\n",
        "        # Optimize using scipy and save theta\n",
        "        tr_losses = []\n",
        "        j = 0\n",
        "        count = 0\n",
        "        while j < self.get_max_itr():\n",
        "            j += 1\n",
        "            ab0 = np.array(self.get_ab())\n",
        "            res = minimize(self.get_loss_func()(tr), ab0, method=self.method,\n",
        "                           options={'disp': True},constraints=self.constraints)\n",
        "            ab = res.x\n",
        "            self.set_ab(ab)\n",
        "\n",
        "            tr_loss = self.get_loss_func()(tr)(ab)\n",
        "            tr_losses.append(tr_loss)\n",
        "            print(\"Iteration: %d. Training loss: %.3E.\" % (j, tr_loss))\n",
        "\n",
        "            # Early stopping\n",
        "            if self.early_stopping is True:\n",
        "                if j > 10:\n",
        "                    if abs(tr_losses[-1] - tr_losses[-2]) / tr_losses[-2] < 0.0001:\n",
        "                        count += 1\n",
        "                        if count >= 2:\n",
        "                            print(\"Early Stopping...\")\n",
        "                            return tr_losses\n",
        "\n",
        "        return tr_losses\n",
        "\n",
        "\n",
        "    def Q(self,y):\n",
        "        Q = Q_gen(y,self.ab)\n",
        "        return Q\n",
        "\n",
        "    def Q_bar(self,y):\n",
        "        return Q_average(y)"
      ],
      "metadata": {
        "id": "Bm94FZdbRsiF"
      },
      "execution_count": 106,
      "outputs": []
    },
    {
      "cell_type": "code",
      "source": [
        "#from lib import *\n",
        "import numpy as np\n",
        "\n",
        "def garch_process(r, theta, p=1, q=1):\n",
        "    w, alpha, gamma, beta = theta[0], theta[1:1 + p], theta[1 + p:1 + p + p], theta[1 + p + p:]\n",
        "    if len(gamma) is not q:\n",
        "        raise Exception('Parameter Length Incorrect!')\n",
        "    r = np.array(r)\n",
        "    T = len(r) - 1\n",
        "\n",
        "    def garch_update(s, r, t, alpha, beta, gamma, p=p, q=q, T=T):\n",
        "        \"s = [st-1,...s0], r = [rT,...,r0], t is time\" \\\n",
        "        \"alpha, beta and gamma are from above\" \\\n",
        "        \"returns new_s = [st,...,s0]\"\n",
        "        r_temp = r[T - t + 1:T - t + 1 + q]  # [rt-1,...,rt-q]\n",
        "        s_temp = s[0:p]  # [st-1,...st-p]\n",
        "\n",
        "        var = np.array(s_temp) ** 2\n",
        "        r_squared = np.array(r_temp) ** 2\n",
        "        gjr = r_squared*(np.array(r_temp)<0)\n",
        "        st = np.sqrt(np.abs(np.dot(np.array(beta), var) + np.dot(np.array(alpha), r_squared)\n",
        "                      + np.dot(np.array(gamma), gjr) + w))\n",
        "\n",
        "        new_s = [st] + s\n",
        "\n",
        "        return new_s #[sT,...,s0]\n",
        "\n",
        "    #\"Initialize values of s and m as data variance and mean\"\n",
        "    s_int = np.std(r)\n",
        "    L = max(p, q)\n",
        "    s = [s_int for i in range(0, L)]\n",
        "\n",
        "    for t in range(L, T + 1):\n",
        "        s = garch_update(s, r, t, alpha, beta, gamma)\n",
        "\n",
        "    return s\n",
        "\n",
        "\n",
        "def garch_loss(r, theta, p, q):\n",
        "    s = garch_process(r, theta, p, q)\n",
        "\n",
        "    def garch_loss_helper(r=r, s=s):\n",
        "        s = np.array(s)\n",
        "        loss = 0.0\n",
        "        for i in range(len(r)):\n",
        "            loss += np.log(s[i] ** 2) + (r[i]/s[i])**2\n",
        "\n",
        "    #print('training loss %f' % loss)\n",
        "        return loss\n",
        "\n",
        "    return garch_loss_helper()\n",
        "\n",
        "\n",
        "def garch_loss_gen(p=1, q=1):\n",
        "    def loss1(r):\n",
        "        def loss(theta):\n",
        "            return garch_loss(r, theta, p, q)\n",
        "        return loss\n",
        "    return loss1"
      ],
      "metadata": {
        "id": "iACQezuzTIk7"
      },
      "execution_count": 131,
      "outputs": []
    },
    {
      "cell_type": "code",
      "source": [
        "import numpy as np\n",
        "from scipy.optimize import minimize\n",
        "#from DCC_GARCH.GARCH.GARCH_loss import garch_process\n",
        "\n",
        "\n",
        "class GARCH():\n",
        "\n",
        "    def __init__(self, p=1, q=1, max_itr=3, early_stopping=True):\n",
        "        # p the lag of r_t, q the lag of s_t\n",
        "        self.p = p\n",
        "        self.q = q\n",
        "        theta0 = [0.005] + [0.1 for i in range(p)] + [0.1 for i in range(p)] + [0.85 for i in range(q)]\n",
        "        self.theta = np.array(theta0)\n",
        "        self.max_itr = max_itr\n",
        "        self.early_stopping = early_stopping\n",
        "        def ub(x):\n",
        "            return 1. - x[1] - 0.5*x[2] - x[3]\n",
        "        def lb1(x):\n",
        "            return x[1] + x[2]\n",
        "        def lb2(x):\n",
        "            return x[0]\n",
        "        def lb3(x):\n",
        "            return x[1]\n",
        "        def lb4(x):\n",
        "            return x[3]\n",
        "        self.constraints = [{'type':'ineq', 'fun':ub},{'type':'ineq', 'fun':lb1},\n",
        "                            {'type':'ineq', 'fun':lb2},{'type':'ineq', 'fun':lb3},\n",
        "                            {'type':'ineq', 'fun':lb4}]\n",
        "        self.method = 'COBYLA'\n",
        "\n",
        "    def set_theta(self, theta):\n",
        "        self.theta = np.array(theta)\n",
        "\n",
        "    def get_theta(self):\n",
        "        return self.theta\n",
        "\n",
        "    def get_p(self):\n",
        "        return self.p\n",
        "\n",
        "    def get_q(self):\n",
        "        return self.q\n",
        "\n",
        "    def set_loss(self, loss_func):\n",
        "        \"loss function L is a meta-function, s.t. L(r) = f(theta).\"\n",
        "        self.loss_func = loss_func\n",
        "\n",
        "    def get_loss_func(self):\n",
        "        if self.loss_func is None:\n",
        "            raise Exception(\"No Loss Function Found!\")\n",
        "        else:\n",
        "            return self.loss_func\n",
        "\n",
        "    def set_max_itr(self, max_itr):\n",
        "        self.max_itr = max_itr\n",
        "\n",
        "    def get_max_itr(self):\n",
        "        return self.max_itr\n",
        "\n",
        "    def set_method(self, method):\n",
        "        self.method = method\n",
        "\n",
        "    def get_method(self):\n",
        "        return self.method\n",
        "\n",
        "    def fit(self, train_data):  # train_data: [rT,...r0]\n",
        "        tr = train_data\n",
        "\n",
        "        # Optimize using scipy and save theta\n",
        "        tr_losses = []\n",
        "        j = 0\n",
        "        count = 0\n",
        "        while j < self.get_max_itr():\n",
        "            j += 1\n",
        "            theta0 = self.get_theta()\n",
        "            res = minimize(self.get_loss_func()(tr), theta0, method=self.method,\n",
        "                           options={'disp': True}, constraints=self.constraints)\n",
        "            theta = res.x\n",
        "            self.set_theta(theta)\n",
        "\n",
        "            tr_loss = self.get_loss_func()(tr)(theta)\n",
        "            tr_losses.append(tr_loss)\n",
        "            print(\"Iteration: %d. Training loss: %.3E.\" % (j, tr_loss))\n",
        "\n",
        "            # Early stopping\n",
        "            if self.early_stopping is True:\n",
        "                if j > 10:\n",
        "                    if abs(tr_losses[-1] - tr_losses[-2]) / tr_losses[-2] < 0.0001:\n",
        "                        count += 1\n",
        "                        if count >= 2:\n",
        "                            print(\"Early Stopping...\")\n",
        "                            return tr_losses\n",
        "        return tr_losses\n",
        "\n",
        "    def sigma(self, y):  # test data: [rT,...r0]\n",
        "        s = garch_process(y, self.theta, self.p, self.q)\n",
        "        return np.array(s)"
      ],
      "metadata": {
        "id": "90jXctfxTOb_"
      },
      "execution_count": 109,
      "outputs": []
    },
    {
      "cell_type": "code",
      "source": [
        "import numpy as np\n",
        "# for GARCH(1,1) only\n",
        "def s_MT(theta,rT,sT): #(ndarray, num, num)\n",
        "    w, alpha, gamma, beta = theta[0], theta[1], theta[2], theta[3]\n",
        "    return np.sqrt(w + alpha*(rT**2) + gamma*(rT**2)*(rT<0) + beta*(sT**2))\n",
        "\n",
        "def Q_MT(ab,Q_bar,eT,QT): #(ndarray, ndarray, ndarray, ndarray)\n",
        "    a, b = ab[0], ab[1]\n",
        "    return (1 - a - b) * Q_bar + a * np.outer(eT,eT) + b * QT\n",
        "\n",
        "def R_MT(ab,Q_bar,eT,QT): #(ndarray, ndarray, ndarray, ndarray)\n",
        "    Q = Q_MT(ab,Q_bar,eT,QT)\n",
        "    n = Q.shape[0]\n",
        "    temp = 1 / np.sqrt(np.abs(Q))\n",
        "    temp = temp * np.eye(n)\n",
        "    return np.dot(np.dot(temp, Q), temp)\n",
        "\n",
        "def H_MT(theta_list,rT_list,sT_list,ab,Q_bar,eT,QT):\n",
        "    # (list of ndarray, list, list, ndarray, ndarray, ndarray, ndarray)\n",
        "    n = len(theta_list)\n",
        "    S_forward = np.zeros([n,n])\n",
        "    s_forward = []\n",
        "    for i in range(n):\n",
        "        s_forward_i = s_MT(theta_list[i],rT_list[i],sT_list[i])\n",
        "        S_forward[i,i] = s_forward_i\n",
        "        s_forward = s_forward + [s_forward_i]\n",
        "    R_forward = R_MT(ab,Q_bar,eT,QT)\n",
        "    return np.dot(np.dot(S_forward, R_forward), S_forward), np.array(s_forward)\n",
        "\n",
        "def gen_new(theta_list,rT_list,sT_list,ab,Q_bar,eT,QT):\n",
        "    H, s = H_MT(theta_list,rT_list,sT_list,ab,Q_bar,eT,QT)\n",
        "    h = np.linalg.cholesky(H)\n",
        "    n = h.shape[0]\n",
        "    r = np.dot(h, np.random.randn(n))\n",
        "    e = r / s\n",
        "    Q = Q_MT(ab,Q_bar,eT,QT)\n",
        "\n",
        "    return r, s, e, Q\n",
        "\n",
        "def gen_new_r_squence(theta_list,rT_list,sT_list,ab,Q_bar,eT,QT,m):\n",
        "    # output [rT+m,...,rT+1,rT]\n",
        "    r_squen = [np.array(rT_list)]\n",
        "    s_squen = [np.array(sT_list)]\n",
        "    e_squen = [eT]\n",
        "    Q_squen = [QT]\n",
        "    for i in range(m):\n",
        "        r_i, s_i, e_i, Q_i = gen_new(theta_list,r_squen[0],s_squen[0],ab,Q_bar,e_squen[0],Q_squen[0])\n",
        "        r_squen = [r_i] + r_squen\n",
        "        s_squen = [s_i] + s_squen\n",
        "        e_squen = [e_i] + e_squen\n",
        "        Q_squen = [Q_i] + Q_squen\n",
        "    return r_squen"
      ],
      "metadata": {
        "id": "-vi691pYTT0j"
      },
      "execution_count": 110,
      "outputs": []
    },
    {
      "cell_type": "markdown",
      "source": [
        "NSE and GOLD"
      ],
      "metadata": {
        "id": "SlfQW9jhYTYq"
      }
    },
    {
      "cell_type": "code",
      "source": [
        "ns_model = GARCH(1, 1)\n",
        "ns_model.set_loss(garch_loss_gen(1, 1))\n",
        "ns_model.set_max_itr(1)\n",
        "ns_model.fit(nifty_returns)\n",
        "ns_model.get_theta()"
      ],
      "metadata": {
        "colab": {
          "base_uri": "https://localhost:8080/"
        },
        "id": "SphpWDd4S_-H",
        "outputId": "aab3642a-1f0b-4940-b86f-c058293ebe26"
      },
      "execution_count": 132,
      "outputs": [
        {
          "output_type": "stream",
          "name": "stdout",
          "text": [
            "Iteration: 1. Training loss: -3.563E+02.\n"
          ]
        },
        {
          "output_type": "execute_result",
          "data": {
            "text/plain": [
              "array([-1.78800971e-22,  2.91806705e-01, -2.91806705e-01,  8.39099826e-01])"
            ]
          },
          "metadata": {},
          "execution_count": 132
        }
      ]
    },
    {
      "cell_type": "code",
      "source": [
        "go_model = GARCH(1, 1)\n",
        "go_model.set_loss(garch_loss_gen(1, 1))\n",
        "go_model.set_max_itr(1)\n",
        "go_model.fit(gold_returns)\n",
        "go_model.get_theta()"
      ],
      "metadata": {
        "colab": {
          "base_uri": "https://localhost:8080/"
        },
        "id": "wX3qDPejTjHP",
        "outputId": "cb44fbcd-2d2b-40b6-f7a8-ebd45f5b6fa5"
      },
      "execution_count": 133,
      "outputs": [
        {
          "output_type": "stream",
          "name": "stdout",
          "text": [
            "Iteration: 1. Training loss: -3.562E+02.\n"
          ]
        },
        {
          "output_type": "execute_result",
          "data": {
            "text/plain": [
              "array([1.00000000e-04, 1.38777878e-17, 2.77555756e-17, 1.00000000e+00])"
            ]
          },
          "metadata": {},
          "execution_count": 133
        }
      ]
    },
    {
      "cell_type": "code",
      "source": [
        "ns_sigma = ns_model.sigma(nifty_returns)\n",
        "ns_epsilon = nifty_returns / ns_sigma\n",
        "go_sigma = go_model.sigma(gold_returns)\n",
        "go_epsilon = gold_returns / go_sigma\n",
        "epsilon = np.array([ns_epsilon,go_epsilon])\n",
        "##from DCC_GARCH.DCC.DCC import DCC\n",
        "##from DCC_GARCH.DCC.DCC_loss import dcc_loss_gen\n",
        "dcc_model = DCC()\n",
        "dcc_model.set_loss(dcc_loss_gen())\n",
        "dcc_model.fit(epsilon)"
      ],
      "metadata": {
        "colab": {
          "base_uri": "https://localhost:8080/"
        },
        "id": "-jRUKk3WUFlt",
        "outputId": "bb0036a9-50d7-4d21-8944-911f196e9c7f"
      },
      "execution_count": 134,
      "outputs": [
        {
          "output_type": "stream",
          "name": "stdout",
          "text": [
            "Optimization terminated successfully.    (Exit mode 0)\n",
            "            Current function value: 95.90595198783652\n",
            "            Iterations: 3\n",
            "            Function evaluations: 13\n",
            "            Gradient evaluations: 3\n",
            "Iteration: 1. Training loss: 9.591E+01.\n",
            "Optimization terminated successfully.    (Exit mode 0)\n",
            "            Current function value: 95.90595198783652\n",
            "            Iterations: 1\n",
            "            Function evaluations: 4\n",
            "            Gradient evaluations: 1\n",
            "Iteration: 2. Training loss: 9.591E+01.\n"
          ]
        },
        {
          "output_type": "execute_result",
          "data": {
            "text/plain": [
              "[95.90595198783652, 95.90595198783652]"
            ]
          },
          "metadata": {},
          "execution_count": 134
        }
      ]
    },
    {
      "cell_type": "code",
      "source": [
        "dcc_model.get_ab()"
      ],
      "metadata": {
        "colab": {
          "base_uri": "https://localhost:8080/"
        },
        "id": "PTbIwHjyUjeI",
        "outputId": "371709a2-35e9-48ad-ba50-1a69bdaa6f21"
      },
      "execution_count": 135,
      "outputs": [
        {
          "output_type": "execute_result",
          "data": {
            "text/plain": [
              "array([-1.56208380e-13,  5.33124115e-01])"
            ]
          },
          "metadata": {},
          "execution_count": 135
        }
      ]
    },
    {
      "cell_type": "markdown",
      "source": [
        "Oil and NSE"
      ],
      "metadata": {
        "id": "GjBplfTDYWIH"
      }
    },
    {
      "cell_type": "code",
      "source": [
        "ns_model = GARCH(1, 1)\n",
        "ns_model.set_loss(garch_loss_gen(1, 1))\n",
        "ns_model.set_max_itr(1)\n",
        "ns_model.fit(nifty_returns)\n",
        "ns_model.get_theta()\n",
        "\n",
        "co_model = GARCH(1, 1)\n",
        "co_model.set_loss(garch_loss_gen(1, 1))\n",
        "co_model.set_max_itr(1)\n",
        "co_model.fit(crudeoil_returns)\n",
        "co_model.get_theta()\n",
        "\n",
        "ns_sigma = ns_model.sigma(nifty_returns)\n",
        "ns_epsilon = nifty_returns / ns_sigma\n",
        "co_sigma = co_model.sigma(crudeoil_returns)\n",
        "co_epsilon = crudeoil_returns / co_sigma\n",
        "epsilon = np.array([ns_epsilon,co_epsilon])\n",
        "##from DCC_GARCH.DCC.DCC import DCC\n",
        "##from DCC_GARCH.DCC.DCC_loss import dcc_loss_gen\n",
        "dcc_model = DCC()\n",
        "dcc_model.set_loss(dcc_loss_gen())\n",
        "dcc_model.fit(epsilon)\n",
        "\n",
        "dcc_model.get_ab()"
      ],
      "metadata": {
        "colab": {
          "base_uri": "https://localhost:8080/"
        },
        "id": "e2KB-mFUYYI6",
        "outputId": "688e4b94-b7e9-4a3e-bc94-7944ec3bec23"
      },
      "execution_count": 136,
      "outputs": [
        {
          "output_type": "stream",
          "name": "stdout",
          "text": [
            "Iteration: 1. Training loss: -3.563E+02.\n",
            "Iteration: 1. Training loss: -2.252E+02.\n",
            "Optimization terminated successfully.    (Exit mode 0)\n",
            "            Current function value: 139.824920170848\n",
            "            Iterations: 3\n",
            "            Function evaluations: 13\n",
            "            Gradient evaluations: 3\n",
            "Iteration: 1. Training loss: 1.398E+02.\n",
            "Optimization terminated successfully.    (Exit mode 0)\n",
            "            Current function value: 139.824920170848\n",
            "            Iterations: 1\n",
            "            Function evaluations: 4\n",
            "            Gradient evaluations: 1\n",
            "Iteration: 2. Training loss: 1.398E+02.\n"
          ]
        },
        {
          "output_type": "execute_result",
          "data": {
            "text/plain": [
              "array([-6.79512002e-13,  5.21747559e-01])"
            ]
          },
          "metadata": {},
          "execution_count": 136
        }
      ]
    },
    {
      "cell_type": "markdown",
      "source": [
        "Oil and Gas Index"
      ],
      "metadata": {
        "id": "1iV0niZ5ZYIV"
      }
    },
    {
      "cell_type": "code",
      "source": [
        "ng_model = GARCH(1, 1)\n",
        "ng_model.set_loss(garch_loss_gen(1, 1))\n",
        "ng_model.set_max_itr(1)\n",
        "ng_model.fit(nifty_returns)\n",
        "ng_model.get_theta()\n",
        "\n",
        "co_model = GARCH(1, 1)\n",
        "co_model.set_loss(garch_loss_gen(1, 1))\n",
        "co_model.set_max_itr(1)\n",
        "co_model.fit(crudeoil_returns)\n",
        "co_model.get_theta()\n",
        "\n",
        "ng_sigma = ng_model.sigma(naturalgas_returns)\n",
        "ng_epsilon = naturalgas_returns / ng_sigma\n",
        "co_sigma = co_model.sigma(crudeoil_returns)\n",
        "co_epsilon = crudeoil_returns / co_sigma\n",
        "epsilon = np.array([ng_epsilon,co_epsilon])\n",
        "##from DCC_GARCH.DCC.DCC import DCC\n",
        "##from DCC_GARCH.DCC.DCC_loss import dcc_loss_gen\n",
        "dcc_model = DCC()\n",
        "dcc_model.set_loss(dcc_loss_gen())\n",
        "dcc_model.fit(epsilon)\n",
        "\n",
        "dcc_model.get_ab()"
      ],
      "metadata": {
        "colab": {
          "base_uri": "https://localhost:8080/"
        },
        "id": "ezH86uZuZbOm",
        "outputId": "216d5e66-8fa0-479d-e34d-9e41851cf974"
      },
      "execution_count": 137,
      "outputs": [
        {
          "output_type": "stream",
          "name": "stdout",
          "text": [
            "Iteration: 1. Training loss: -3.563E+02.\n",
            "Iteration: 1. Training loss: -2.252E+02.\n",
            "Optimization terminated successfully.    (Exit mode 0)\n",
            "            Current function value: 221.2759302090583\n",
            "            Iterations: 3\n",
            "            Function evaluations: 15\n",
            "            Gradient evaluations: 3\n",
            "Iteration: 1. Training loss: 2.213E+02.\n",
            "Optimization terminated successfully.    (Exit mode 0)\n",
            "            Current function value: 221.2759302090583\n",
            "            Iterations: 1\n",
            "            Function evaluations: 4\n",
            "            Gradient evaluations: 1\n",
            "Iteration: 2. Training loss: 2.213E+02.\n"
          ]
        },
        {
          "output_type": "execute_result",
          "data": {
            "text/plain": [
              "array([-2.65965028e-12,  9.13791416e-01])"
            ]
          },
          "metadata": {},
          "execution_count": 137
        }
      ]
    }
  ],
  "metadata": {
    "colab": {
      "collapsed_sections": [],
      "name": "Volatility_Spillover.ipynb",
      "provenance": [],
      "authorship_tag": "ABX9TyO1fUNd2esGbgEEtRwzvUgq",
      "include_colab_link": true
    },
    "kernelspec": {
      "display_name": "Python 3",
      "name": "python3"
    },
    "language_info": {
      "name": "python"
    }
  },
  "nbformat": 4,
  "nbformat_minor": 0
}